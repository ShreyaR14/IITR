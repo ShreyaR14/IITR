{
  "nbformat": 4,
  "nbformat_minor": 0,
  "metadata": {
    "colab": {
      "name": "Precision,recall,f-measure.ipynb",
      "provenance": [],
      "authorship_tag": "ABX9TyMqflpFtFIFMLjqBqJPtEDv"
    },
    "kernelspec": {
      "name": "python3",
      "display_name": "Python 3"
    }
  },
  "cells": [
    {
      "cell_type": "markdown",
      "metadata": {
        "id": "WHdjJ9xXbYMi",
        "colab_type": "text"
      },
      "source": [
        "# Precision"
      ]
    },
    {
      "cell_type": "code",
      "metadata": {
        "id": "qb02hckAYpTv",
        "colab_type": "code",
        "colab": {
          "base_uri": "https://localhost:8080/",
          "height": 35
        },
        "outputId": "1fcfd5b9-5937-4fc9-93d7-b8edfe075935"
      },
      "source": [
        "\n",
        "# calculates precision for 1:100 dataset with 90 tp and 30 fp\n",
        "from sklearn.metrics import precision_score\n",
        "# define actual\n",
        "act_pos = [1 for _ in range(100)]\n",
        "act_neg = [0 for _ in range(10000)]\n",
        "y_true = act_pos + act_neg\n",
        "# define predictions\n",
        "pred_pos = [0 for _ in range(10)] + [1 for _ in range(90)]\n",
        "pred_neg = [1 for _ in range(30)] + [0 for _ in range(9970)]\n",
        "y_pred = pred_pos + pred_neg\n",
        "# calculate prediction\n",
        "precision = precision_score(y_true, y_pred, average='binary')\n",
        "print('Precision: %.3f' % precision)"
      ],
      "execution_count": 7,
      "outputs": [
        {
          "output_type": "stream",
          "text": [
            "Precision: 0.750\n"
          ],
          "name": "stdout"
        }
      ]
    },
    {
      "cell_type": "markdown",
      "metadata": {
        "id": "WuJRr_hgbegA",
        "colab_type": "text"
      },
      "source": [
        "# Recall"
      ]
    },
    {
      "cell_type": "code",
      "metadata": {
        "id": "QmjwWcOGadrD",
        "colab_type": "code",
        "colab": {
          "base_uri": "https://localhost:8080/",
          "height": 35
        },
        "outputId": "2a9a22a1-05f8-4c79-ffdf-b5951affc7eb"
      },
      "source": [
        "# calculates recall for 1:100 dataset with 90 tp and 10 fn\n",
        "from sklearn.metrics import recall_score\n",
        "# define actual\n",
        "act_pos = [1 for _ in range(100)]\n",
        "act_neg = [0 for _ in range(10000)]\n",
        "y_true = act_pos + act_neg\n",
        "# define predictions\n",
        "pred_pos = [0 for _ in range(10)] + [1 for _ in range(90)]\n",
        "pred_neg = [0 for _ in range(10000)]\n",
        "y_pred = pred_pos + pred_neg\n",
        "# calculate recall\n",
        "recall = recall_score(y_true, y_pred, average='binary')\n",
        "print('Recall: %.3f' % recall)"
      ],
      "execution_count": 8,
      "outputs": [
        {
          "output_type": "stream",
          "text": [
            "Recall: 0.900\n"
          ],
          "name": "stdout"
        }
      ]
    },
    {
      "cell_type": "markdown",
      "metadata": {
        "id": "lJUMfuirb-zW",
        "colab_type": "text"
      },
      "source": [
        "## F- Measure"
      ]
    },
    {
      "cell_type": "code",
      "metadata": {
        "id": "NnekCnJ1bP9g",
        "colab_type": "code",
        "colab": {
          "base_uri": "https://localhost:8080/",
          "height": 35
        },
        "outputId": "c90518a8-21ad-4903-e875-1ee4f1ea5697"
      },
      "source": [
        "# calculates f1 for 1:100 dataset with 95tp, 5fn, 55fp\n",
        "from sklearn.metrics import f1_score\n",
        "# define actual\n",
        "act_pos = [1 for _ in range(100)]\n",
        "act_neg = [0 for _ in range(10000)]\n",
        "y_true = act_pos + act_neg\n",
        "# define predictions\n",
        "pred_pos = [0 for _ in range(5)] + [1 for _ in range(95)]\n",
        "pred_neg = [1 for _ in range(55)] + [0 for _ in range(9945)]\n",
        "y_pred = pred_pos + pred_neg\n",
        "# calculate score\n",
        "score = f1_score(y_true, y_pred, average='binary')\n",
        "print('F-Measure: %.3f' % score)"
      ],
      "execution_count": 9,
      "outputs": [
        {
          "output_type": "stream",
          "text": [
            "F-Measure: 0.760\n"
          ],
          "name": "stdout"
        }
      ]
    },
    {
      "cell_type": "code",
      "metadata": {
        "id": "dTS4eMIzcBY2",
        "colab_type": "code",
        "colab": {}
      },
      "source": [
        ""
      ],
      "execution_count": null,
      "outputs": []
    }
  ]
}