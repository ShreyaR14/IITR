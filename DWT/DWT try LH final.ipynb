{
 "cells": [
  {
   "cell_type": "code",
   "execution_count": 1,
   "metadata": {},
   "outputs": [],
   "source": [
    "import matplotlib.image as mpimg\n",
    "import matplotlib.pyplot as plt\n",
    "from sklearn.model_selection import train_test_split\n",
    "import numpy as np\n",
    "import cv2\n",
    "%matplotlib inline\n",
    "import pywt\n",
    "import os\n",
    "import time\n",
    "import matplotlib.image as mpimg\n",
    "from sklearn.neighbors import KNeighborsClassifier\n",
    "from skimage import exposure\n",
    "from skimage import feature\n",
    "from imutils import paths\n",
    "import glob\n",
    "from sklearn.preprocessing import StandardScaler\n",
    "from sklearn.svm import LinearSVC# \"Support Vector Classifier\"\n",
    "from sklearn.preprocessing import StandardScaler\n",
    "from scipy.ndimage.measurements import label\n",
    "from sklearn.model_selection import train_test_split\n",
    "from sklearn.metrics import confusion_matrix\n",
    "from scipy.sparse import coo_matrix\n",
    "from scipy.sparse import csr_matrix"
   ]
  },
  {
   "cell_type": "code",
   "execution_count": 2,
   "metadata": {},
   "outputs": [
    {
     "name": "stdout",
     "output_type": "stream",
     "text": [
      "Fishplate images:\n",
      "66\n",
      "Non-fishplate images:\n",
      "66\n"
     ]
    }
   ],
   "source": [
    "fishplate_images = 'C:/Users/hp/Desktop/Mod1-IITR/fishplate/pos/'\n",
    "print(\"Fishplate images:\")\n",
    "print (len([name for name in os.listdir(fishplate_images) if os.path.isfile(os.path.join(fishplate_images, name))]))\n",
    "\n",
    "fishplate_images1 = []\n",
    "\n",
    "for i in range(len([name for name in os.listdir(fishplate_images) if os.path.isfile(os.path.join(fishplate_images, name))])):\n",
    "    fishplate_images1.append(fishplate_images+\"/\"+str(i+1)+\".JPG\")\n",
    "\n",
    "\n",
    "nonfishplate_images = 'C:/Users/hp/Desktop/Mod1-IITR/fishplate/neg/'\n",
    "print(\"Non-fishplate images:\")\n",
    "print (len([name for name in os.listdir(nonfishplate_images) if os.path.isfile(os.path.join(nonfishplate_images, name))]))\n",
    "\n",
    "nonfishplate_images1 = []\n",
    "for i in range(len([name for name in os.listdir(nonfishplate_images) if os.path.isfile(os.path.join(nonfishplate_images, name))])):\n",
    "    nonfishplate_images1.append(nonfishplate_images+\"/\"+str(i+1)+\".JPG\")\n"
   ]
  },
  {
   "cell_type": "code",
   "execution_count": 3,
   "metadata": {},
   "outputs": [
    {
     "name": "stdout",
     "output_type": "stream",
     "text": [
      "Shape of the image is =  (100, 100)\n",
      "\n",
      "\n",
      "Image matrix\n",
      "\n",
      " [[0.40608627 0.40608627 0.39824314 ... 0.22236    0.23804627 0.25765412]\n",
      " [0.41785098 0.42569412 0.42177255 ... 0.1596149  0.17137961 0.19490902]\n",
      " [0.42961569 0.44530196 0.44922353 ... 0.12039922 0.12432078 0.13608549]\n",
      " ...\n",
      " [0.46206667 0.51304706 0.46598824 ... 0.41451686 0.43412471 0.41059529]\n",
      " [0.50520392 0.50912549 0.42677255 ... 0.42628157 0.39490902 0.34000706]\n",
      " [0.37971373 0.36402745 0.28951765 ... 0.39883059 0.33608549 0.26157569]]\n",
      "\n",
      "\n",
      "Shape of the feature array =  (10000,)\n",
      "\n",
      "\n",
      "Feature Array\n",
      "\n",
      " [0.40608627 0.40608627 0.39824314 ... 0.39883059 0.33608549 0.26157569]\n"
     ]
    }
   ],
   "source": [
    "from skimage.io import imread, imshow\n",
    "image = imread('C:/Users/hp/Desktop/Mod1-IITR/fishplate/pos/1.jpg', as_gray=True)\n",
    "\n",
    "#checking image shape \n",
    "print('Shape of the image is = ',image.shape)\n",
    "\n",
    "# image matrix\n",
    "print('\\n\\nImage matrix\\n\\n',image)\n",
    "\n",
    "# create features\n",
    "features = np.reshape(image, (100*100))\n",
    "\n",
    "# shape of feature array\n",
    "print('\\n\\nShape of the feature array = ',features.shape)\n",
    "\n",
    "print('\\n\\nFeature Array\\n\\n',features)"
   ]
  },
  {
   "cell_type": "code",
   "execution_count": 4,
   "metadata": {},
   "outputs": [],
   "source": [
    "def waveleteTransform(img):\n",
    "    img = cv2.cvtColor(img, cv2.COLOR_BGR2GRAY)\n",
    "\n",
    "    img = np.float32(img)\n",
    "    img /= 255\n",
    "\n",
    "    coeffs2 = pywt.dwt2(img, 'bior1.3')\n",
    "    LL, (LH, HL, HH) = coeffs2\n",
    "    fig = plt.figure()\n",
    "    for i, a in enumerate([LH]):\n",
    "        ax = fig.add_subplot(1, 1, i + 1)\n",
    "        ax.imshow(a, cmap=plt.cm.gray)\n",
    "    plt.close('all')\n",
    "#     features = img.astype(np.uint8)\n",
    "\n",
    "    return features"
   ]
  },
  {
   "cell_type": "code",
   "execution_count": 5,
   "metadata": {},
   "outputs": [],
   "source": [
    "def extract_features(imgs):\n",
    "\n",
    "    features = []\n",
    "\n",
    "    for file in imgs:\n",
    "        # Read in each one by one\n",
    "        image = mpimg.imread(file)\n",
    "        feature_image = cv2.cvtColor(image, cv2.COLOR_RGB2YUV)\n",
    "        \n",
    "        wavelet_features = []\n",
    "        for channel in range(feature_image.shape[2]):\n",
    "            wavelet_features.append(waveleteTransform(image))\n",
    "        wavelet_features = np.ravel(wavelet_features)        \n",
    "        \n",
    "        # Append the new feature vector to the features list\n",
    "        features.append(wavelet_features)\n",
    "    # Return list of feature vectors\n",
    "    return features"
   ]
  },
  {
   "cell_type": "code",
   "execution_count": 6,
   "metadata": {},
   "outputs": [],
   "source": [
    "fishplate_features = extract_features(fishplate_images1)                    \n",
    "\n",
    "notfishplate_features = extract_features(nonfishplate_images1)"
   ]
  },
  {
   "cell_type": "code",
   "execution_count": 7,
   "metadata": {},
   "outputs": [
    {
     "name": "stdout",
     "output_type": "stream",
     "text": [
      "66\n",
      "66\n",
      "[[0.40608627 0.40608627 0.39824314 ... 0.39883059 0.33608549 0.26157569]\n",
      " [0.40608627 0.40608627 0.39824314 ... 0.39883059 0.33608549 0.26157569]\n",
      " [0.40608627 0.40608627 0.39824314 ... 0.39883059 0.33608549 0.26157569]\n",
      " ...\n",
      " [0.40608627 0.40608627 0.39824314 ... 0.39883059 0.33608549 0.26157569]\n",
      " [0.40608627 0.40608627 0.39824314 ... 0.39883059 0.33608549 0.26157569]\n",
      " [0.40608627 0.40608627 0.39824314 ... 0.39883059 0.33608549 0.26157569]]\n",
      "(132, 30000)\n"
     ]
    }
   ],
   "source": [
    "X = np.vstack((fishplate_features, notfishplate_features))\n",
    "print(len(fishplate_features))\n",
    "print(len(notfishplate_features))\n",
    "\n",
    "print(X)\n",
    "print(X.shape)"
   ]
  },
  {
   "cell_type": "code",
   "execution_count": 8,
   "metadata": {},
   "outputs": [
    {
     "name": "stdout",
     "output_type": "stream",
     "text": [
      "[1. 1. 1. 1. 1. 1. 1. 1. 1. 1. 1. 1. 1. 1. 1. 1. 1. 1. 1. 1. 1. 1. 1. 1.\n",
      " 1. 1. 1. 1. 1. 1. 1. 1. 1. 1. 1. 1. 1. 1. 1. 1. 1. 1. 1. 1. 1. 1. 1. 1.\n",
      " 1. 1. 1. 1. 1. 1. 1. 1. 1. 1. 1. 1. 1. 1. 1. 1. 1. 1. 0. 0. 0. 0. 0. 0.\n",
      " 0. 0. 0. 0. 0. 0. 0. 0. 0. 0. 0. 0. 0. 0. 0. 0. 0. 0. 0. 0. 0. 0. 0. 0.\n",
      " 0. 0. 0. 0. 0. 0. 0. 0. 0. 0. 0. 0. 0. 0. 0. 0. 0. 0. 0. 0. 0. 0. 0. 0.\n",
      " 0. 0. 0. 0. 0. 0. 0. 0. 0. 0. 0. 0.]\n",
      "(132,)\n"
     ]
    }
   ],
   "source": [
    "y = np.hstack((np.ones(len(fishplate_features)), np.zeros(len(notfishplate_features))))\n",
    "print(y)\n",
    "print(y.shape)"
   ]
  },
  {
   "cell_type": "code",
   "execution_count": 9,
   "metadata": {},
   "outputs": [
    {
     "name": "stdout",
     "output_type": "stream",
     "text": [
      "18.75 Seconds to train SVC...\n",
      "Test Accuracy of SVC =  0.4815\n"
     ]
    },
    {
     "name": "stderr",
     "output_type": "stream",
     "text": [
      "c:\\users\\hp\\appdata\\local\\programs\\python\\python38-32\\lib\\site-packages\\sklearn\\svm\\_base.py:976: ConvergenceWarning: Liblinear failed to converge, increase the number of iterations.\n",
      "  warnings.warn(\"Liblinear failed to converge, increase \"\n"
     ]
    }
   ],
   "source": [
    "svc = LinearSVC()\n",
    "rand_state = np.random.randint(0, 66)\n",
    "X_train, X_test, y_train, y_test = train_test_split(X, y, test_size=0.2, random_state=rand_state)\n",
    "time1=time.time()\n",
    "svm_model_linear=svc.fit(X_train, y_train)\n",
    "t2 = time.time()\n",
    "\n",
    "print(round(t2-time1, 2), 'Seconds to train SVC...')\n",
    "svm_predictions = svm_model_linear.predict(X_test)\n",
    "svm_predictions = svc.predict(X_test)\n",
    "print('Test Accuracy of SVC = ',round(svm_model_linear.score(X_test, y_test),4)) "
   ]
  },
  {
   "cell_type": "code",
   "execution_count": 10,
   "metadata": {},
   "outputs": [],
   "source": [
    "def sliding_window(image, stepSize, windowSize):\n",
    "\t# slide a window across the image\n",
    "\tfor y in range(0, image.shape[0], stepSize):\n",
    "\t\tfor x in range(0, image.shape[1], stepSize):\n",
    "\t\t\t# yield the current window\n",
    "\t\t\tyield (x, y, image[y:y + windowSize[1], x:x + windowSize[0]])"
   ]
  },
  {
   "cell_type": "code",
   "execution_count": 11,
   "metadata": {},
   "outputs": [],
   "source": [
    "def search_windowfeature(image2):       \n",
    "\n",
    "        test_img = cv2.cvtColor(window,cv2.COLOR_RGB2GRAY)    \n",
    "        waveletfeaturestest, wavelet_imagetest = waveleteTransform(test_img)\n",
    "        featuresizetest=waveletfeaturestest.size\n",
    "        waveletfeaturestest=np.reshape(waveletfeaturestest,(featuresizetest,),order='C')\n",
    "        waveletfeaturestest= waveletfeaturestest.reshape(1,-1)\n",
    "        return waveletfeaturestest    \n"
   ]
  },
  {
   "cell_type": "code",
   "execution_count": 12,
   "metadata": {},
   "outputs": [
    {
     "name": "stderr",
     "output_type": "stream",
     "text": [
      "c:\\users\\hp\\appdata\\local\\programs\\python\\python38-32\\lib\\site-packages\\sklearn\\svm\\_base.py:976: ConvergenceWarning: Liblinear failed to converge, increase the number of iterations.\n",
      "  warnings.warn(\"Liblinear failed to converge, increase \"\n"
     ]
    },
    {
     "name": "stdout",
     "output_type": "stream",
     "text": [
      "17.71 Seconds to train SVC...\n",
      "Test Accuracy of SVC =  0.5555555555555556\n"
     ]
    },
    {
     "ename": "error",
     "evalue": "OpenCV(4.4.0) c:\\users\\appveyor\\appdata\\local\\temp\\1\\pip-req-build-m9hy83n6\\opencv\\modules\\imgproc\\src\\color.simd_helpers.hpp:92: error: (-2:Unspecified error) in function '__thiscall cv::impl::`anonymous-namespace'::CvtHelper<struct cv::impl::`anonymous namespace'::Set<3,4,-1>,struct cv::impl::A0x214bf4ba::Set<1,-1,-1>,struct cv::impl::A0x214bf4ba::Set<0,2,5>,2>::CvtHelper(const class cv::_InputArray &,const class cv::_OutputArray &,int)'\n> Invalid number of channels in input image:\n>     'VScn::contains(scn)'\n> where\n>     'scn' is 1\n",
     "output_type": "error",
     "traceback": [
      "\u001b[1;31m---------------------------------------------------------------------------\u001b[0m",
      "\u001b[1;31merror\u001b[0m                                     Traceback (most recent call last)",
      "\u001b[1;32m<ipython-input-12-dff38920ee0b>\u001b[0m in \u001b[0;36m<module>\u001b[1;34m\u001b[0m\n\u001b[0;32m    110\u001b[0m         \u001b[1;32mif\u001b[0m \u001b[0mwindow\u001b[0m\u001b[1;33m.\u001b[0m\u001b[0mshape\u001b[0m\u001b[1;33m[\u001b[0m\u001b[1;36m0\u001b[0m\u001b[1;33m]\u001b[0m \u001b[1;33m!=\u001b[0m \u001b[0mwinH\u001b[0m \u001b[1;32mor\u001b[0m \u001b[0mwindow\u001b[0m\u001b[1;33m.\u001b[0m\u001b[0mshape\u001b[0m\u001b[1;33m[\u001b[0m\u001b[1;36m1\u001b[0m\u001b[1;33m]\u001b[0m \u001b[1;33m!=\u001b[0m \u001b[0mwinW\u001b[0m\u001b[1;33m:\u001b[0m\u001b[1;33m\u001b[0m\u001b[1;33m\u001b[0m\u001b[0m\n\u001b[0;32m    111\u001b[0m             \u001b[1;32mcontinue\u001b[0m\u001b[1;33m\u001b[0m\u001b[1;33m\u001b[0m\u001b[0m\n\u001b[1;32m--> 112\u001b[1;33m         \u001b[0mwindowstestfeat\u001b[0m \u001b[1;33m=\u001b[0m \u001b[0msearch_windowfeature\u001b[0m\u001b[1;33m(\u001b[0m\u001b[0mwindow\u001b[0m\u001b[1;33m)\u001b[0m\u001b[1;33m\u001b[0m\u001b[1;33m\u001b[0m\u001b[0m\n\u001b[0m\u001b[0;32m    113\u001b[0m         \u001b[0mtestfeaturesh\u001b[0m \u001b[1;33m=\u001b[0m \u001b[0mX_scaler\u001b[0m\u001b[1;33m.\u001b[0m\u001b[0mtransform\u001b[0m\u001b[1;33m(\u001b[0m\u001b[0mwindowstestfeat\u001b[0m\u001b[1;33m)\u001b[0m\u001b[1;33m\u001b[0m\u001b[1;33m\u001b[0m\u001b[0m\n\u001b[0;32m    114\u001b[0m         \u001b[0mprediction\u001b[0m \u001b[1;33m=\u001b[0m\u001b[0msvm_model_linear\u001b[0m\u001b[1;33m.\u001b[0m\u001b[0mpredict\u001b[0m\u001b[1;33m(\u001b[0m\u001b[0mtestfeaturesh\u001b[0m\u001b[1;33m)\u001b[0m\u001b[1;33m\u001b[0m\u001b[1;33m\u001b[0m\u001b[0m\n",
      "\u001b[1;32m<ipython-input-11-2879e247269f>\u001b[0m in \u001b[0;36msearch_windowfeature\u001b[1;34m(image2)\u001b[0m\n\u001b[0;32m      2\u001b[0m \u001b[1;33m\u001b[0m\u001b[0m\n\u001b[0;32m      3\u001b[0m         \u001b[0mtest_img\u001b[0m \u001b[1;33m=\u001b[0m \u001b[0mcv2\u001b[0m\u001b[1;33m.\u001b[0m\u001b[0mcvtColor\u001b[0m\u001b[1;33m(\u001b[0m\u001b[0mwindow\u001b[0m\u001b[1;33m,\u001b[0m\u001b[0mcv2\u001b[0m\u001b[1;33m.\u001b[0m\u001b[0mCOLOR_RGB2GRAY\u001b[0m\u001b[1;33m)\u001b[0m\u001b[1;33m\u001b[0m\u001b[1;33m\u001b[0m\u001b[0m\n\u001b[1;32m----> 4\u001b[1;33m         \u001b[0mwaveletfeaturestest\u001b[0m\u001b[1;33m,\u001b[0m \u001b[0mwavelet_imagetest\u001b[0m \u001b[1;33m=\u001b[0m \u001b[0mwaveleteTransform\u001b[0m\u001b[1;33m(\u001b[0m\u001b[0mtest_img\u001b[0m\u001b[1;33m)\u001b[0m\u001b[1;33m\u001b[0m\u001b[1;33m\u001b[0m\u001b[0m\n\u001b[0m\u001b[0;32m      5\u001b[0m         \u001b[0mfeaturesizetest\u001b[0m\u001b[1;33m=\u001b[0m\u001b[0mwaveletfeaturestest\u001b[0m\u001b[1;33m.\u001b[0m\u001b[0msize\u001b[0m\u001b[1;33m\u001b[0m\u001b[1;33m\u001b[0m\u001b[0m\n\u001b[0;32m      6\u001b[0m         \u001b[0mwaveletfeaturestest\u001b[0m\u001b[1;33m=\u001b[0m\u001b[0mnp\u001b[0m\u001b[1;33m.\u001b[0m\u001b[0mreshape\u001b[0m\u001b[1;33m(\u001b[0m\u001b[0mwaveletfeaturestest\u001b[0m\u001b[1;33m,\u001b[0m\u001b[1;33m(\u001b[0m\u001b[0mfeaturesizetest\u001b[0m\u001b[1;33m,\u001b[0m\u001b[1;33m)\u001b[0m\u001b[1;33m,\u001b[0m\u001b[0morder\u001b[0m\u001b[1;33m=\u001b[0m\u001b[1;34m'C'\u001b[0m\u001b[1;33m)\u001b[0m\u001b[1;33m\u001b[0m\u001b[1;33m\u001b[0m\u001b[0m\n",
      "\u001b[1;32m<ipython-input-4-3854907737ab>\u001b[0m in \u001b[0;36mwaveleteTransform\u001b[1;34m(img)\u001b[0m\n\u001b[0;32m      1\u001b[0m \u001b[1;32mdef\u001b[0m \u001b[0mwaveleteTransform\u001b[0m\u001b[1;33m(\u001b[0m\u001b[0mimg\u001b[0m\u001b[1;33m)\u001b[0m\u001b[1;33m:\u001b[0m\u001b[1;33m\u001b[0m\u001b[1;33m\u001b[0m\u001b[0m\n\u001b[1;32m----> 2\u001b[1;33m     \u001b[0mimg\u001b[0m \u001b[1;33m=\u001b[0m \u001b[0mcv2\u001b[0m\u001b[1;33m.\u001b[0m\u001b[0mcvtColor\u001b[0m\u001b[1;33m(\u001b[0m\u001b[0mimg\u001b[0m\u001b[1;33m,\u001b[0m \u001b[0mcv2\u001b[0m\u001b[1;33m.\u001b[0m\u001b[0mCOLOR_BGR2GRAY\u001b[0m\u001b[1;33m)\u001b[0m\u001b[1;33m\u001b[0m\u001b[1;33m\u001b[0m\u001b[0m\n\u001b[0m\u001b[0;32m      3\u001b[0m \u001b[1;33m\u001b[0m\u001b[0m\n\u001b[0;32m      4\u001b[0m     \u001b[0mimg\u001b[0m \u001b[1;33m=\u001b[0m \u001b[0mnp\u001b[0m\u001b[1;33m.\u001b[0m\u001b[0mfloat32\u001b[0m\u001b[1;33m(\u001b[0m\u001b[0mimg\u001b[0m\u001b[1;33m)\u001b[0m\u001b[1;33m\u001b[0m\u001b[1;33m\u001b[0m\u001b[0m\n\u001b[0;32m      5\u001b[0m     \u001b[0mimg\u001b[0m \u001b[1;33m/=\u001b[0m \u001b[1;36m255\u001b[0m\u001b[1;33m\u001b[0m\u001b[1;33m\u001b[0m\u001b[0m\n",
      "\u001b[1;31merror\u001b[0m: OpenCV(4.4.0) c:\\users\\appveyor\\appdata\\local\\temp\\1\\pip-req-build-m9hy83n6\\opencv\\modules\\imgproc\\src\\color.simd_helpers.hpp:92: error: (-2:Unspecified error) in function '__thiscall cv::impl::`anonymous-namespace'::CvtHelper<struct cv::impl::`anonymous namespace'::Set<3,4,-1>,struct cv::impl::A0x214bf4ba::Set<1,-1,-1>,struct cv::impl::A0x214bf4ba::Set<0,2,5>,2>::CvtHelper(const class cv::_InputArray &,const class cv::_OutputArray &,int)'\n> Invalid number of channels in input image:\n>     'VScn::contains(scn)'\n> where\n>     'scn' is 1\n"
     ]
    }
   ],
   "source": [
    "if __name__ == '__main__':\n",
    "    posfeatures=[]\n",
    "    h1=[]\n",
    "    positive= 'C:/Users/hp/Desktop/Mod1-IITR/fishplate/pos/'\n",
    "    for image_file in os.listdir(positive):\n",
    "        image = mpimg.imread(os.path.join(positive,image_file))\n",
    "        image = cv2.cvtColor(image, cv2.COLOR_BGR2GRAY)\n",
    "\n",
    "        image = np.float32(image)\n",
    "        image /= 255\n",
    "\n",
    "        coeffs2 = pywt.dwt2(image, 'bior1.3')\n",
    "        LL, (LH, HL, HH) = coeffs2\n",
    "        fig = plt.figure()\n",
    "        for i, a in enumerate([LH]):\n",
    "            ax = fig.add_subplot(1, 1, i + 1)\n",
    "            ax.imshow(a, cmap=plt.cm.gray)\n",
    "        plt.close('all')\n",
    "#         image=np.resize(image,(100,100))        \n",
    "        \n",
    "        \n",
    "#         wavefeatures, wavelet_image = waveleteTransform(image)\n",
    "#         featuresize=wavefeatures.size\n",
    "#         wavefeatures=np.reshape(wavefeatures,(featuresize,),order='C')\n",
    "#         wavefeatures= wavefeatures.reshape(1,-1)\n",
    "#         posfeatures.append(wavefeatures)\n",
    "#         tpos=np.concatenate(posfeatures)  \n",
    "#         h1.append(np.concatenate(posfeatures))\n",
    "\n",
    "#for negative examples\n",
    "    negfeatures=[]\n",
    "    h2=[]\n",
    "    negative= 'C:/Users/hp/Desktop/Mod1-IITR/fishplate/neg/'\n",
    "    for image_file1 in os.listdir(negative):\n",
    "        image1 = mpimg.imread(os.path.join(negative,image_file1))\n",
    "        image1 = cv2.cvtColor(image1, cv2.COLOR_BGR2GRAY)\n",
    "\n",
    "        image1 = np.float32(image)\n",
    "        image1 /= 255\n",
    "\n",
    "        coeffs2 = pywt.dwt2(image1, 'bior1.3')\n",
    "        LL, (LH, HL, HH) = coeffs2\n",
    "        fig = plt.figure()\n",
    "        for i, a in enumerate([LH]):\n",
    "            ax = fig.add_subplot(1, 1, i + 1)\n",
    "            ax.imshow(a, cmap=plt.cm.gray)\n",
    "        plt.close('all')\n",
    "#         image1=np.resize(image1,(100,100))\n",
    "        \n",
    "#         wavefeatures1, wave_image1 = waveleteTransform(image1)\n",
    "#         featuresize1=wavefeatures1.size\n",
    "#         wavefeatures1=np.reshape(wavefeatures1,(featuresize1,),order='C')\n",
    "#         wavefeatures1= wavefeatures1.reshape(1,-1)\n",
    "\n",
    "#         negfeatures.append(wavefeatures1)\n",
    "#         t=np.concatenate(negfeatures)  \n",
    "#         h2.append(np.concatenate(negfeatures))\n",
    "    \n",
    "svc = LinearSVC()\n",
    "X_scaler = StandardScaler() \n",
    "X = np.vstack((fishplate_features, notfishplate_features))\n",
    "X_scaler.fit(X)\n",
    "scaled_X = X_scaler.transform(X)\n",
    "\n",
    "y = np.hstack((np.ones(len(fishplate_features)), np.zeros(len(notfishplate_features))))\n",
    "rand_state = np.random.randint(0, 66)\n",
    "X_train, X_test, y_train, y_test = train_test_split(scaled_X, y, test_size=0.20, random_state=rand_state)\n",
    "time1=time.time()\n",
    "svm_model_linear=svc.fit(X_train, y_train)\n",
    "t2 = time.time()\n",
    "\n",
    "print(round(t2-time1, 2), 'Seconds to train SVC...')\n",
    "svm_predictions = svm_model_linear.predict(X_test)\n",
    "svm_predictions = svc.predict(X_test)\n",
    "print('Test Accuracy of SVC = ',svm_model_linear.score(X_test, y_test))  \n",
    "\n",
    "\n",
    "# svc = LinearSVC()\n",
    "# X_scaler = StandardScaler() \n",
    "# X = np.vstack((tpos,t))\n",
    "# X_scaler.fit(X)\n",
    "# scaled_X = X_scaler.transform(X)\n",
    "\n",
    "# y = np.hstack((np.ones(len(tpos)), np.zeros(len(t))))\n",
    "# rand_state = np.random.randint(0, 66)\n",
    "# X_train, X_test, y_train, y_test = train_test_split(scaled_X, y, test_size=0.20, random_state=rand_state)\n",
    "# time1=time.time()\n",
    "# svm_model_linear=svc.fit(X_train, y_train)\n",
    "# t2 = time.time()\n",
    "\n",
    "# print(round(t2-time1, 2), 'Seconds to train SVC...')\n",
    "# svm_predictions = svm_model_linear.predict(X_test)\n",
    "# svm_predictions = svc.predict(X_test)\n",
    "# print('Test Accuracy of SVC = ',svm_model_linear.score(X_test, y_test))  \n",
    "\n",
    "\n",
    "\n",
    "imdir = 'C:/Users/hp/Desktop/Mod1-IITR/test/'\n",
    "xcord=[]\n",
    "ycord1=[]\n",
    "(winW, winH) = (100,100)\n",
    "for image_file in os.listdir(imdir):\n",
    "    image2 = mpimg.imread(os.path.join(imdir, image_file))\n",
    "\n",
    "    on_windows=[]\n",
    "    pred=[]\n",
    "    clone = image2.copy()\n",
    "\n",
    "    for (x, y, window) in sliding_window(image2, stepSize=32, windowSize=(winW, winH)): \n",
    "        if window.shape[0] != winH or window.shape[1] != winW:\n",
    "            continue\n",
    "        windowstestfeat = search_windowfeature(window)\n",
    "        testfeaturesh = X_scaler.transform(windowstestfeat) \n",
    "        prediction =svm_model_linear.predict(testfeaturesh) \n",
    "        pred.append(prediction)\n",
    "        if prediction==1:\n",
    "            on_windows.append(window)\n",
    "            xcord.append(x)\n",
    "            ycord1.append(y) \n",
    "            cv2.rectangle(clone, (x, y), (x + winW, y + winH), (0, 255, 0), 2)\n",
    "            cv2.imshow(\"Window\",clone)\n",
    "        k=cv2.waitKey(1)\n",
    "        \n",
    "        time.sleep(0.025)"
   ]
  },
  {
   "cell_type": "code",
   "execution_count": null,
   "metadata": {},
   "outputs": [],
   "source": []
  }
 ],
 "metadata": {
  "kernelspec": {
   "display_name": "Python 3",
   "language": "python",
   "name": "python3"
  },
  "language_info": {
   "codemirror_mode": {
    "name": "ipython",
    "version": 3
   },
   "file_extension": ".py",
   "mimetype": "text/x-python",
   "name": "python",
   "nbconvert_exporter": "python",
   "pygments_lexer": "ipython3",
   "version": "3.8.5"
  }
 },
 "nbformat": 4,
 "nbformat_minor": 4
}
