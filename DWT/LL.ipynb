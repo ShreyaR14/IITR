{
  "nbformat": 4,
  "nbformat_minor": 0,
  "metadata": {
    "colab": {
      "name": "LL.ipynb",
      "provenance": [],
      "collapsed_sections": [],
      "toc_visible": true,
      "mount_file_id": "15OoarHPRNlG8_lJ83jPQCieo9xsx6hDF",
      "authorship_tag": "ABX9TyPdR2flpZg8TviZZoXliULA"
    },
    "kernelspec": {
      "name": "python3",
      "display_name": "Python 3"
    }
  },
  "cells": [
    {
      "cell_type": "code",
      "metadata": {
        "id": "G3He5aYyV4hc"
      },
      "source": [
        "import matplotlib.image as mpimg\r\n",
        "import matplotlib.pyplot as plt\r\n",
        "from sklearn.model_selection import train_test_split\r\n",
        "import numpy as np\r\n",
        "import cv2\r\n",
        "%matplotlib inline\r\n",
        "import pywt\r\n",
        "import pandas as pd\r\n",
        "import os\r\n",
        "import time\r\n",
        "from skimage import feature\r\n",
        "import glob\r\n",
        "from sklearn.svm import LinearSVC# \"Support Vector Classifier\"\r\n",
        "from sklearn.preprocessing import StandardScaler"
      ],
      "execution_count": null,
      "outputs": []
    },
    {
      "cell_type": "code",
      "metadata": {
        "colab": {
          "base_uri": "https://localhost:8080/"
        },
        "id": "bSsBer4pYJvB",
        "outputId": "c3a8da7c-b902-4fa2-cb36-d713a28d867d"
      },
      "source": [
        "df = pd.read_csv(\"/content/drive/MyDrive/Mod1-IITR/Data.csv\")\r\n",
        "X = df.iloc[:,:-1]\r\n",
        "y = df.iloc[:,-1]\r\n",
        "y=y.astype('int')"
      ],
      "execution_count": null,
      "outputs": [
        {
          "output_type": "stream",
          "text": [
            "/usr/local/lib/python3.6/dist-packages/IPython/core/interactiveshell.py:2718: DtypeWarning: Columns (373248) have mixed types.Specify dtype option on import or set low_memory=False.\n",
            "  interactivity=interactivity, compiler=compiler, result=result)\n"
          ],
          "name": "stderr"
        }
      ]
    },
    {
      "cell_type": "code",
      "metadata": {
        "colab": {
          "base_uri": "https://localhost:8080/"
        },
        "id": "33U6sByAXwso",
        "outputId": "470c20ce-94bd-4814-b0c3-0abe20059f6e"
      },
      "source": [
        "svc = LinearSVC()\r\n",
        "# rand_state = np.random.randint(0, 66)\r\n",
        "X_train, X_test, y_train, y_test = train_test_split(X, y, test_size=0.2, random_state=42)\r\n",
        "# time1=time.time()\r\n",
        "svm_model_linear=svc.fit(X_train, y_train)\r\n",
        "# t2 = time.time()\r\n",
        "\r\n",
        "# print(round(t2-time1, 2), 'Seconds to train SVC...')\r\n",
        "svm_predictions = svm_model_linear.predict(X_test)\r\n",
        "svm_predictions = svc.predict(X_test)\r\n",
        "print('Test Accuracy of SVC = ',round(svm_model_linear.score(X_test, y_test),4)) "
      ],
      "execution_count": null,
      "outputs": [
        {
          "output_type": "stream",
          "text": [
            "/usr/local/lib/python3.6/dist-packages/sklearn/svm/_base.py:947: ConvergenceWarning: Liblinear failed to converge, increase the number of iterations.\n",
            "  \"the number of iterations.\", ConvergenceWarning)\n"
          ],
          "name": "stderr"
        },
        {
          "output_type": "stream",
          "text": [
            "Test Accuracy of SVC =  0.7778\n"
          ],
          "name": "stdout"
        }
      ]
    },
    {
      "cell_type": "code",
      "metadata": {
        "id": "uMaN7XVFdgNS"
      },
      "source": [
        "#Saving Model\r\n",
        "import pickle\r\n",
        "filename = '/content/drive/MyDrive/Mod1-IITR/Models/LL_model.sav'\r\n",
        "pickle.dump(svm_model_linear, open(filename, 'wb'))"
      ],
      "execution_count": null,
      "outputs": []
    },
    {
      "cell_type": "code",
      "metadata": {
        "id": "UZGauN8sd41Q"
      },
      "source": [
        "#accessing model\r\n",
        "import pickle\r\n",
        "filename = '/content/drive/MyDrive/Mod1-IITR/Models/LL_model.sav'\r\n",
        "svm_model_linear = pickle.load(open(filename, 'rb'))"
      ],
      "execution_count": null,
      "outputs": []
    },
    {
      "cell_type": "code",
      "metadata": {
        "id": "pn19ud5Zmd3G"
      },
      "source": [
        ""
      ],
      "execution_count": null,
      "outputs": []
    },
    {
      "cell_type": "code",
      "metadata": {
        "id": "7qSi39xsmXTi"
      },
      "source": [
        ""
      ],
      "execution_count": null,
      "outputs": []
    },
    {
      "cell_type": "code",
      "metadata": {
        "id": "NzF4-VxhmWAq"
      },
      "source": [
        ""
      ],
      "execution_count": null,
      "outputs": []
    },
    {
      "cell_type": "code",
      "metadata": {
        "id": "QiKhX2wll_nF"
      },
      "source": [
        ""
      ],
      "execution_count": null,
      "outputs": []
    },
    {
      "cell_type": "code",
      "metadata": {
        "id": "hMnyTpplm83w"
      },
      "source": [
        ""
      ],
      "execution_count": null,
      "outputs": []
    }
  ]
}