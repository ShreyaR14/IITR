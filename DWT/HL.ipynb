{
  "nbformat": 4,
  "nbformat_minor": 0,
  "metadata": {
    "colab": {
      "name": "HL.ipynb",
      "provenance": [],
      "mount_file_id": "1ph6ROF66f8did3gXtMB2Slpm9gOmOAC7",
      "authorship_tag": "ABX9TyOvW3m+CdKZLTWSnP4azWKE"
    },
    "kernelspec": {
      "name": "python3",
      "display_name": "Python 3"
    }
  },
  "cells": [
    {
      "cell_type": "code",
      "metadata": {
        "id": "vm414I4eexaZ"
      },
      "source": [
        "import matplotlib.image as mpimg\r\n",
        "import matplotlib.pyplot as plt\r\n",
        "from sklearn.model_selection import train_test_split\r\n",
        "import numpy as np\r\n",
        "import cv2\r\n",
        "%matplotlib inline\r\n",
        "import pywt\r\n",
        "import pandas as pd\r\n",
        "import os\r\n",
        "import time\r\n",
        "from skimage import feature\r\n",
        "import glob\r\n",
        "from sklearn.svm import LinearSVC# \"Support Vector Classifier\"\r\n",
        "from sklearn.preprocessing import StandardScaler"
      ],
      "execution_count": null,
      "outputs": []
    },
    {
      "cell_type": "code",
      "metadata": {
        "id": "LCHRiFcSezGo"
      },
      "source": [
        "df = pd.read_csv(\"/content/drive/MyDrive/Mod1-IITR/Data_HL.csv\")\r\n",
        "X = df.iloc[:,:-1]\r\n",
        "y = df.iloc[:,-1]\r\n",
        "y=y.astype('int')"
      ],
      "execution_count": null,
      "outputs": []
    },
    {
      "cell_type": "code",
      "metadata": {
        "colab": {
          "base_uri": "https://localhost:8080/"
        },
        "id": "CsW1ZlXPezOx",
        "outputId": "7113e02d-06d3-4282-c39a-b04ebc8d273e"
      },
      "source": [
        "svc = LinearSVC()\r\n",
        "# rand_state = np.random.randint(0, 66)\r\n",
        "X_train, X_test, y_train, y_test = train_test_split(X, y, test_size=0.2, random_state=42)\r\n",
        "# time1=time.time()\r\n",
        "svm_model_linear=svc.fit(X_train, y_train)\r\n",
        "# t2 = time.time()\r\n",
        "\r\n",
        "# print(round(t2-time1, 2), 'Seconds to train SVC...')\r\n",
        "svm_predictions = svm_model_linear.predict(X_test)\r\n",
        "svm_predictions = svc.predict(X_test)\r\n",
        "print('Test Accuracy of SVC = ',round(svm_model_linear.score(X_test, y_test),4)) "
      ],
      "execution_count": null,
      "outputs": [
        {
          "output_type": "stream",
          "text": [
            "/usr/local/lib/python3.6/dist-packages/sklearn/svm/_base.py:947: ConvergenceWarning: Liblinear failed to converge, increase the number of iterations.\n",
            "  \"the number of iterations.\", ConvergenceWarning)\n"
          ],
          "name": "stderr"
        },
        {
          "output_type": "stream",
          "text": [
            "Test Accuracy of SVC =  0.7778\n"
          ],
          "name": "stdout"
        }
      ]
    },
    {
      "cell_type": "code",
      "metadata": {
        "id": "1-WECocXezSs"
      },
      "source": [
        "#Saving Model\r\n",
        "import pickle\r\n",
        "filename = '/content/drive/MyDrive/Mod1-IITR/Models/HL_model.sav'\r\n",
        "pickle.dump(svm_model_linear, open(filename, 'wb'))"
      ],
      "execution_count": null,
      "outputs": []
    },
    {
      "cell_type": "code",
      "metadata": {
        "id": "40vEc4N5ezWA"
      },
      "source": [
        ""
      ],
      "execution_count": null,
      "outputs": []
    }
  ]
}