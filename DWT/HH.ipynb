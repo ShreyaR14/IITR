{
  "nbformat": 4,
  "nbformat_minor": 0,
  "metadata": {
    "colab": {
      "name": "HH.ipynb",
      "provenance": [],
      "mount_file_id": "1nI_xLb0qnN-erwigTAgsPmp7c8VkBI03",
      "authorship_tag": "ABX9TyMDBeTQa3AB4gURfAe2z8aa",
      "include_colab_link": true
    },
    "kernelspec": {
      "name": "python3",
      "display_name": "Python 3"
    }
  },
  "cells": [
    {
      "cell_type": "markdown",
      "metadata": {
        "id": "view-in-github",
        "colab_type": "text"
      },
      "source": [
        "<a href=\"https://colab.research.google.com/github/ShreyaR14/IITR/blob/master/DWT/HH.ipynb\" target=\"_parent\"><img src=\"https://colab.research.google.com/assets/colab-badge.svg\" alt=\"Open In Colab\"/></a>"
      ]
    },
    {
      "cell_type": "code",
      "metadata": {
        "id": "LNH7-MlYjl2g"
      },
      "source": [
        "import matplotlib.image as mpimg\r\n",
        "import matplotlib.pyplot as plt\r\n",
        "from sklearn.model_selection import train_test_split\r\n",
        "import numpy as np\r\n",
        "import cv2\r\n",
        "%matplotlib inline\r\n",
        "import pywt\r\n",
        "import pandas as pd\r\n",
        "import os\r\n",
        "import time\r\n",
        "from skimage import feature\r\n",
        "import glob\r\n",
        "from sklearn.svm import LinearSVC# \"Support Vector Classifier\"\r\n",
        "from sklearn.preprocessing import StandardScaler"
      ],
      "execution_count": null,
      "outputs": []
    },
    {
      "cell_type": "code",
      "metadata": {
        "id": "bIQ7eEmqkG84"
      },
      "source": [
        "df = pd.read_csv(\"/content/drive/MyDrive/Mod1-IITR/Data_HH.csv\")\r\n",
        "X = df.iloc[:,:-1]\r\n",
        "y = df.iloc[:,-1]\r\n",
        "y=y.astype('int')"
      ],
      "execution_count": null,
      "outputs": []
    },
    {
      "cell_type": "code",
      "metadata": {
        "colab": {
          "base_uri": "https://localhost:8080/"
        },
        "id": "bUGeO9xYkHGY",
        "outputId": "0c5214ce-9d3d-4cc0-d6cb-114ec743b0f1"
      },
      "source": [
        "svc = LinearSVC()\r\n",
        "# rand_state = np.random.randint(0, 66)\r\n",
        "X_train, X_test, y_train, y_test = train_test_split(X, y, test_size=0.2, random_state=42)\r\n",
        "# time1=time.time()\r\n",
        "svm_model_linear=svc.fit(X_train, y_train)\r\n",
        "# t2 = time.time()\r\n",
        "\r\n",
        "# print(round(t2-time1, 2), 'Seconds to train SVC...')\r\n",
        "svm_predictions = svm_model_linear.predict(X_test)\r\n",
        "svm_predictions = svc.predict(X_test)\r\n",
        "print('Test Accuracy of SVC = ',round(svm_model_linear.score(X_test, y_test),4)) "
      ],
      "execution_count": null,
      "outputs": [
        {
          "output_type": "stream",
          "text": [
            "/usr/local/lib/python3.6/dist-packages/sklearn/svm/_base.py:947: ConvergenceWarning: Liblinear failed to converge, increase the number of iterations.\n",
            "  \"the number of iterations.\", ConvergenceWarning)\n"
          ],
          "name": "stderr"
        },
        {
          "output_type": "stream",
          "text": [
            "Test Accuracy of SVC =  0.5185\n"
          ],
          "name": "stdout"
        }
      ]
    },
    {
      "cell_type": "code",
      "metadata": {
        "id": "v2c2cxO6kHLl"
      },
      "source": [
        "#Saving Model\r\n",
        "import pickle\r\n",
        "filename = '/content/drive/MyDrive/Mod1-IITR/Models/HH_model.sav'\r\n",
        "pickle.dump(svm_model_linear, open(filename, 'wb'))"
      ],
      "execution_count": null,
      "outputs": []
    },
    {
      "cell_type": "code",
      "metadata": {
        "id": "dQsO2-IBkHRs"
      },
      "source": [
        ""
      ],
      "execution_count": null,
      "outputs": []
    }
  ]
}