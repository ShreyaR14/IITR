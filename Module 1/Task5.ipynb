{
  "nbformat": 4,
  "nbformat_minor": 0,
  "metadata": {
    "colab": {
      "name": "Task5.ipynb",
      "provenance": [],
      "collapsed_sections": [],
      "mount_file_id": "18Xz3AaGOJCSuMuZki4SInBdRLPzC3Eit",
      "authorship_tag": "ABX9TyMBf6/r5kq0zw2obeRUG3xz"
    },
    "kernelspec": {
      "name": "python3",
      "display_name": "Python 3"
    }
  },
  "cells": [
    {
      "cell_type": "code",
      "metadata": {
        "id": "6MIuOHs1J5qc",
        "colab_type": "code",
        "colab": {
          "base_uri": "https://localhost:8080/",
          "height": 35
        },
        "outputId": "fb452d18-54e1-4aea-da66-ec1eb7452cf4"
      },
      "source": [
        "pip install pillow"
      ],
      "execution_count": 9,
      "outputs": [
        {
          "output_type": "stream",
          "text": [
            "Requirement already satisfied: pillow in /usr/local/lib/python3.6/dist-packages (7.0.0)\n"
          ],
          "name": "stdout"
        }
      ]
    },
    {
      "cell_type": "code",
      "metadata": {
        "id": "7sxmP4ogIFqC",
        "colab_type": "code",
        "colab": {}
      },
      "source": [
        "from skimage.feature import hog\n",
        "from sklearn.svm import LinearSVC\n",
        "from sklearn.preprocessing import StandardScaler\n",
        "from sklearn.model_selection import train_test_split\n",
        "from scipy.ndimage.measurements import label\n",
        "import matplotlib.image as mpimg\n",
        "import matplotlib.pyplot as plt\n",
        "from PIL import Image\n",
        "%matplotlib inline\n",
        "from moviepy.editor import VideoFileClip\n",
        "from IPython.display import HTML\n",
        "import numpy as np\n",
        "import pickle\n",
        "import cv2\n",
        "import glob\n",
        "import time\n",
        "import os, os.path\n",
        "\n",
        "def get_hog_features(img, orient, pix_per_cell, cell_per_block, \n",
        "                        vis=False, feature_vec=True):\n",
        "    # Call with two outputs if vis==True\n",
        "    if vis == True:\n",
        "        features, hog_image = hog(img, orientations=orient, \n",
        "                                  pixels_per_cell=(pix_per_cell, pix_per_cell),\n",
        "                                  cells_per_block=(cell_per_block, cell_per_block), \n",
        "                                  transform_sqrt=False, \n",
        "                                  visualise=vis, feature_vector=feature_vec)\n",
        "        return features, hog_image\n",
        "    # Otherwise call with one output\n",
        "    else:      \n",
        "        features = hog(img, orientations=orient, \n",
        "                       pixels_per_cell=(pix_per_cell, pix_per_cell),\n",
        "                       cells_per_block=(cell_per_block, cell_per_block), \n",
        "                       transform_sqrt=False, \n",
        "                       visualise=vis, feature_vector=feature_vec)\n",
        "        return features\n",
        "\n",
        "def extract_features(imgs, cspace='RGB', orient=9, \n",
        "                        pix_per_cell=8, cell_per_block=2, hog_channel=0):\n",
        "    # Create a list to append feature vectors to\n",
        "    features = []\n",
        "    # Iterate through the list of images\n",
        "    for i in imgs:\n",
        "        # Read in each one by one\n",
        "        image = mpimg.imread(i)\n",
        "        \n",
        "        # apply color conversion if other than 'RGB'\n",
        "        if cspace != 'RGB':\n",
        "            if cspace == 'HSV':\n",
        "                feature_image = cv2.cvtColor(image, cv2.COLOR_RGB2HSV)\n",
        "            elif cspace == 'YUV':\n",
        "                feature_image = cv2.cvtColor(image, cv2.COLOR_RGB2YUV)\n",
        "            elif cspace == 'YCrCb':\n",
        "                feature_image = cv2.cvtColor(image, cv2.COLOR_RGB2YCrCb)\n",
        "        else: feature_image = np.copy(image)\n",
        "\n",
        "        # Call get_hog_features() with vis=False, feature_vec=True\n",
        "        if hog_channel == 'ALL':\n",
        "            hog_features = []\n",
        "            for channel in range(feature_image.shape[2]):\n",
        "                hog_features.append(get_hog_features(feature_image[:,:,channel], \n",
        "                                    orient, pix_per_cell, cell_per_block, \n",
        "                                    vis=False, feature_vec=True))\n",
        "            hog_features = np.ravel(hog_features)        \n",
        "        else:\n",
        "            hog_features = get_hog_features(feature_image[:,:,hog_channel], orient, \n",
        "                        pix_per_cell, cell_per_block, vis=False, feature_vec=True)\n",
        "        # Append the new feature vector to the features list\n",
        "        features.append(hog_features)\n",
        "    # Return list of feature vectors\n",
        "    return features"
      ],
      "execution_count": 44,
      "outputs": []
    },
    {
      "cell_type": "code",
      "metadata": {
        "id": "fmniL4w3IKUO",
        "colab_type": "code",
        "colab": {
          "base_uri": "https://localhost:8080/",
          "height": 87
        },
        "outputId": "a9e1f48b-1823-4bb9-9d83-68e4db8d2694"
      },
      "source": [
        "# Get fishplate and non-fishplate images\n",
        "\n",
        "# path joining version for other paths\n",
        "fishplate_images = '/content/drive/My Drive/Mod1-IITR/fishplate/pos'\n",
        "print(\"Fishplate images:\")\n",
        "print (len([name for name in os.listdir(fishplate_images) if os.path.isfile(os.path.join(fishplate_images, name))]))\n",
        "\n",
        "\n",
        "nonfishplate_images = '/content/drive/My Drive/Mod1-IITR/fishplate/neg'\n",
        "print(\"Non-fishplate images:\")\n",
        "print (len([name for name in os.listdir(nonfishplate_images) if os.path.isfile(os.path.join(nonfishplate_images, name))]))"
      ],
      "execution_count": 45,
      "outputs": [
        {
          "output_type": "stream",
          "text": [
            "Fishplate images:\n",
            "9\n",
            "Non-fishplate images:\n",
            "9\n"
          ],
          "name": "stdout"
        }
      ]
    },
    {
      "cell_type": "code",
      "metadata": {
        "id": "qw6ohXEdJXbC",
        "colab_type": "code",
        "colab": {
          "base_uri": "https://localhost:8080/",
          "height": 185
        },
        "outputId": "cb27667f-9d00-454a-8200-8bb8e5d05803"
      },
      "source": [
        "# Get sample images from training set\n",
        "fishplate_img    = mpimg.imread('/content/drive/My Drive/Mod1-IITR/fishplate/pos/1.PNG')\n",
        "not_fishplate_img = mpimg.imread('/content/drive/My Drive/Mod1-IITR/fishplate/neg/a.PNG')\n",
        "\n",
        "# Plot sample images from training set\n",
        "print(\"Fishplate and not-fishplate sample images from the training set:\")\n",
        "fig = plt.figure()\n",
        "fig.add_subplot(2,2,1)\n",
        "plt.imshow(fishplate_img.squeeze(), cmap=\"gray\")\n",
        "fig.add_subplot(2,2,2)\n",
        "plt.imshow(not_fishplate_img.squeeze(), cmap=\"gray\")"
      ],
      "execution_count": 46,
      "outputs": [
        {
          "output_type": "stream",
          "text": [
            "Fishplate and not-fishplate sample images from the training set:\n"
          ],
          "name": "stdout"
        },
        {
          "output_type": "execute_result",
          "data": {
            "text/plain": [
              "<matplotlib.image.AxesImage at 0x7f4f73c0fa58>"
            ]
          },
          "metadata": {
            "tags": []
          },
          "execution_count": 46
        },
        {
          "output_type": "display_data",
          "data": {
            "image/png": "[encoded data removed]",
            "text/plain": [
              "<Figure size 432x288 with 2 Axes>"
            ]
          },
          "metadata": {
            "tags": [],
            "needs_background": "light"
          }
        }
      ]
    },
    {
      "cell_type": "code",
      "metadata": {
        "id": "2-xPyYepJssF",
        "colab_type": "code",
        "colab": {
          "base_uri": "https://localhost:8080/",
          "height": 357
        },
        "outputId": "d2ea5953-7316-4994-d516-c1b252be1041"
      },
      "source": [
        "# Get Sample Images\n",
        "fishplate_img = mpimg.imread('/content/drive/My Drive/Mod1-IITR/fishplate/pos/1.PNG')\n",
        "not_fishplate_img = mpimg.imread('/content/drive/My Drive/Mod1-IITR/fishplate/neg/a.PNG')\n",
        "\n",
        "# Get HOG features from images\n",
        "fishplate_dst = get_hog_features(fishplate_img[:,:,2], 9, 8, 8, vis=False, feature_vec=True)\n",
        "not_fishplate_dst = get_hog_features(not_fishplate_img[:,:,2], 9, 8, 8, vis=False, feature_vec=True)\n",
        "\n",
        "# Display images next to their hog features \n",
        "fig = plt.figure()\n",
        "fig.add_subplot(2,2,1)\n",
        "plt.imshow(fishplate_img.squeeze(), cmap=\"gray\")\n",
        "fig.add_subplot(2,2,2)\n",
        "plt.imshow(fishplate_dst.squeeze(), cmap=\"gray\")\n",
        "fig.add_subplot(2,2,3)\n",
        "plt.imshow(not_fishplate_img.squeeze(), cmap=\"gray\")\n",
        "fig.add_subplot(2,2,4)\n",
        "plt.imshow(not_fishplate_dst.squeeze(), cmap=\"gray\")"
      ],
      "execution_count": 47,
      "outputs": [
        {
          "output_type": "error",
          "ename": "TypeError",
          "evalue": "ignored",
          "traceback": [
            "\u001b[0;31m---------------------------------------------------------------------------\u001b[0m",
            "\u001b[0;31mTypeError\u001b[0m                                 Traceback (most recent call last)",
            "\u001b[0;32m<ipython-input-47-e6783523e553>\u001b[0m in \u001b[0;36m<module>\u001b[0;34m()\u001b[0m\n\u001b[1;32m      4\u001b[0m \u001b[0;34m\u001b[0m\u001b[0m\n\u001b[1;32m      5\u001b[0m \u001b[0;31m# Get HOG features from images\u001b[0m\u001b[0;34m\u001b[0m\u001b[0;34m\u001b[0m\u001b[0;34m\u001b[0m\u001b[0m\n\u001b[0;32m----> 6\u001b[0;31m \u001b[0mfishplate_dst\u001b[0m \u001b[0;34m=\u001b[0m \u001b[0mget_hog_features\u001b[0m\u001b[0;34m(\u001b[0m\u001b[0mfishplate_img\u001b[0m\u001b[0;34m[\u001b[0m\u001b[0;34m:\u001b[0m\u001b[0;34m,\u001b[0m\u001b[0;34m:\u001b[0m\u001b[0;34m,\u001b[0m\u001b[0;36m2\u001b[0m\u001b[0;34m]\u001b[0m\u001b[0;34m,\u001b[0m \u001b[0;36m9\u001b[0m\u001b[0;34m,\u001b[0m \u001b[0;36m8\u001b[0m\u001b[0;34m,\u001b[0m \u001b[0;36m8\u001b[0m\u001b[0;34m,\u001b[0m \u001b[0mvis\u001b[0m\u001b[0;34m=\u001b[0m\u001b[0;32mFalse\u001b[0m\u001b[0;34m,\u001b[0m \u001b[0mfeature_vec\u001b[0m\u001b[0;34m=\u001b[0m\u001b[0;32mTrue\u001b[0m\u001b[0;34m)\u001b[0m\u001b[0;34m\u001b[0m\u001b[0;34m\u001b[0m\u001b[0m\n\u001b[0m\u001b[1;32m      7\u001b[0m \u001b[0mnot_fishplate_dst\u001b[0m \u001b[0;34m=\u001b[0m \u001b[0mget_hog_features\u001b[0m\u001b[0;34m(\u001b[0m\u001b[0mnot_fishplate_img\u001b[0m\u001b[0;34m[\u001b[0m\u001b[0;34m:\u001b[0m\u001b[0;34m,\u001b[0m\u001b[0;34m:\u001b[0m\u001b[0;34m,\u001b[0m\u001b[0;36m2\u001b[0m\u001b[0;34m]\u001b[0m\u001b[0;34m,\u001b[0m \u001b[0;36m9\u001b[0m\u001b[0;34m,\u001b[0m \u001b[0;36m8\u001b[0m\u001b[0;34m,\u001b[0m \u001b[0;36m8\u001b[0m\u001b[0;34m,\u001b[0m \u001b[0mvis\u001b[0m\u001b[0;34m=\u001b[0m\u001b[0;32mFalse\u001b[0m\u001b[0;34m,\u001b[0m \u001b[0mfeature_vec\u001b[0m\u001b[0;34m=\u001b[0m\u001b[0;32mTrue\u001b[0m\u001b[0;34m)\u001b[0m\u001b[0;34m\u001b[0m\u001b[0;34m\u001b[0m\u001b[0m\n\u001b[1;32m      8\u001b[0m \u001b[0;34m\u001b[0m\u001b[0m\n",
            "\u001b[0;32m<ipython-input-44-5c9c03332a5f>\u001b[0m in \u001b[0;36mget_hog_features\u001b[0;34m(img, orient, pix_per_cell, cell_per_block, vis, feature_vec)\u001b[0m\n\u001b[1;32m     33\u001b[0m                        \u001b[0mcells_per_block\u001b[0m\u001b[0;34m=\u001b[0m\u001b[0;34m(\u001b[0m\u001b[0mcell_per_block\u001b[0m\u001b[0;34m,\u001b[0m \u001b[0mcell_per_block\u001b[0m\u001b[0;34m)\u001b[0m\u001b[0;34m,\u001b[0m\u001b[0;34m\u001b[0m\u001b[0;34m\u001b[0m\u001b[0m\n\u001b[1;32m     34\u001b[0m                        \u001b[0mtransform_sqrt\u001b[0m\u001b[0;34m=\u001b[0m\u001b[0;32mFalse\u001b[0m\u001b[0;34m,\u001b[0m\u001b[0;34m\u001b[0m\u001b[0;34m\u001b[0m\u001b[0m\n\u001b[0;32m---> 35\u001b[0;31m                        visualise=vis, feature_vector=feature_vec)\n\u001b[0m\u001b[1;32m     36\u001b[0m         \u001b[0;32mreturn\u001b[0m \u001b[0mfeatures\u001b[0m\u001b[0;34m\u001b[0m\u001b[0;34m\u001b[0m\u001b[0m\n\u001b[1;32m     37\u001b[0m \u001b[0;34m\u001b[0m\u001b[0m\n",
            "\u001b[0;31mTypeError\u001b[0m: hog() got an unexpected keyword argument 'visualise'"
          ]
        }
      ]
    },
    {
      "cell_type": "code",
      "metadata": {
        "id": "WW1d68FxLAx9",
        "colab_type": "code",
        "colab": {
          "base_uri": "https://localhost:8080/",
          "height": 381
        },
        "outputId": "2a88155d-e2a4-40c5-bc5a-d1f9629fcb9f"
      },
      "source": [
        "# Feature extraction parameters\n",
        "colorspace = 'YUV' # Can be RGB, HSV, LUV, HLS, YUV, YCrCb\n",
        "orient = 11\n",
        "pix_per_cell = 16\n",
        "cell_per_block = 2\n",
        "hog_channel = 'All' # Can be 0, 1, 2, or \"ALL\"\n",
        "\n",
        "# Get features for images with fishplates\n",
        "fishplate_features = extract_features(fishplate_images, cspace=colorspace, orient=orient, \n",
        "                        pix_per_cell=pix_per_cell, cell_per_block=cell_per_block, \n",
        "                        hog_channel=hog_channel)\n",
        "\n",
        "# Get features for images without fishplates\n",
        "notfishplate_features = extract_features(nonfishplate_images, cspace=colorspace, orient=orient, \n",
        "                        pix_per_cell=pix_per_cell, cell_per_block=cell_per_block, \n",
        "                        hog_channel=hog_channel)\n",
        "\n",
        "# Create an array stack of feature vectors\n",
        "X = np.vstack((fishplate_features, notfishplate_features)).astype(np.float64)  \n",
        "\n",
        "# Define the labels vector\n",
        "y = np.hstack((np.ones(len(fishplate_features)), np.zeros(len(notfishplate_features))))\n",
        "\n",
        "# Split up data into randomized training and test sets\n",
        "rand_state = np.random.randint(0, 100)\n",
        "X_train, X_test, y_train, y_test = train_test_split(\n",
        "    X, y, test_size=0.2, random_state=rand_state)\n",
        "\n",
        "# Print feature details\n",
        "print()\n",
        "print('Using',orient,'orientations with',pix_per_cell,\n",
        "    'pixels per cell and', cell_per_block,'cells per block')\n",
        "print('Feature vector length:', len(X_train[0]))"
      ],
      "execution_count": 48,
      "outputs": [
        {
          "output_type": "error",
          "ename": "IsADirectoryError",
          "evalue": "ignored",
          "traceback": [
            "\u001b[0;31m---------------------------------------------------------------------------\u001b[0m",
            "\u001b[0;31mIsADirectoryError\u001b[0m                         Traceback (most recent call last)",
            "\u001b[0;32m<ipython-input-48-c6df8409f939>\u001b[0m in \u001b[0;36m<module>\u001b[0;34m()\u001b[0m\n\u001b[1;32m      9\u001b[0m fishplate_features = extract_features(fishplate_images, cspace=colorspace, orient=orient, \n\u001b[1;32m     10\u001b[0m                         \u001b[0mpix_per_cell\u001b[0m\u001b[0;34m=\u001b[0m\u001b[0mpix_per_cell\u001b[0m\u001b[0;34m,\u001b[0m \u001b[0mcell_per_block\u001b[0m\u001b[0;34m=\u001b[0m\u001b[0mcell_per_block\u001b[0m\u001b[0;34m,\u001b[0m\u001b[0;34m\u001b[0m\u001b[0;34m\u001b[0m\u001b[0m\n\u001b[0;32m---> 11\u001b[0;31m                         hog_channel=hog_channel)\n\u001b[0m\u001b[1;32m     12\u001b[0m \u001b[0;34m\u001b[0m\u001b[0m\n\u001b[1;32m     13\u001b[0m \u001b[0;31m# Get features for images without fishplates\u001b[0m\u001b[0;34m\u001b[0m\u001b[0;34m\u001b[0m\u001b[0;34m\u001b[0m\u001b[0m\n",
            "\u001b[0;32m<ipython-input-44-5c9c03332a5f>\u001b[0m in \u001b[0;36mextract_features\u001b[0;34m(imgs, cspace, orient, pix_per_cell, cell_per_block, hog_channel)\u001b[0m\n\u001b[1;32m     43\u001b[0m     \u001b[0;32mfor\u001b[0m \u001b[0mi\u001b[0m \u001b[0;32min\u001b[0m \u001b[0mimgs\u001b[0m\u001b[0;34m:\u001b[0m\u001b[0;34m\u001b[0m\u001b[0;34m\u001b[0m\u001b[0m\n\u001b[1;32m     44\u001b[0m         \u001b[0;31m# Read in each one by one\u001b[0m\u001b[0;34m\u001b[0m\u001b[0;34m\u001b[0m\u001b[0;34m\u001b[0m\u001b[0m\n\u001b[0;32m---> 45\u001b[0;31m         \u001b[0mimage\u001b[0m \u001b[0;34m=\u001b[0m \u001b[0mmpimg\u001b[0m\u001b[0;34m.\u001b[0m\u001b[0mimread\u001b[0m\u001b[0;34m(\u001b[0m\u001b[0mi\u001b[0m\u001b[0;34m)\u001b[0m\u001b[0;34m\u001b[0m\u001b[0;34m\u001b[0m\u001b[0m\n\u001b[0m\u001b[1;32m     46\u001b[0m \u001b[0;34m\u001b[0m\u001b[0m\n\u001b[1;32m     47\u001b[0m         \u001b[0;32mif\u001b[0m \u001b[0mframe\u001b[0m \u001b[0;32mis\u001b[0m \u001b[0;32mNone\u001b[0m\u001b[0;34m:\u001b[0m\u001b[0;34m\u001b[0m\u001b[0;34m\u001b[0m\u001b[0m\n",
            "\u001b[0;32m/usr/local/lib/python3.6/dist-packages/matplotlib/image.py\u001b[0m in \u001b[0;36mimread\u001b[0;34m(fname, format)\u001b[0m\n\u001b[1;32m   1462\u001b[0m             raise ValueError('Only know how to handle PNG; with Pillow '\n\u001b[1;32m   1463\u001b[0m                              'installed, Matplotlib can handle more images')\n\u001b[0;32m-> 1464\u001b[0;31m         \u001b[0;32mwith\u001b[0m \u001b[0mImage\u001b[0m\u001b[0;34m.\u001b[0m\u001b[0mopen\u001b[0m\u001b[0;34m(\u001b[0m\u001b[0mfname\u001b[0m\u001b[0;34m)\u001b[0m \u001b[0;32mas\u001b[0m \u001b[0mimage\u001b[0m\u001b[0;34m:\u001b[0m\u001b[0;34m\u001b[0m\u001b[0;34m\u001b[0m\u001b[0m\n\u001b[0m\u001b[1;32m   1465\u001b[0m             \u001b[0;32mreturn\u001b[0m \u001b[0mpil_to_array\u001b[0m\u001b[0;34m(\u001b[0m\u001b[0mimage\u001b[0m\u001b[0;34m)\u001b[0m\u001b[0;34m\u001b[0m\u001b[0;34m\u001b[0m\u001b[0m\n\u001b[1;32m   1466\u001b[0m     \u001b[0;32mfrom\u001b[0m \u001b[0mmatplotlib\u001b[0m \u001b[0;32mimport\u001b[0m \u001b[0m_png\u001b[0m\u001b[0;34m\u001b[0m\u001b[0;34m\u001b[0m\u001b[0m\n",
            "\u001b[0;32m/usr/local/lib/python3.6/dist-packages/PIL/Image.py\u001b[0m in \u001b[0;36mopen\u001b[0;34m(fp, mode)\u001b[0m\n\u001b[1;32m   2807\u001b[0m \u001b[0;34m\u001b[0m\u001b[0m\n\u001b[1;32m   2808\u001b[0m     \u001b[0;32mif\u001b[0m \u001b[0mfilename\u001b[0m\u001b[0;34m:\u001b[0m\u001b[0;34m\u001b[0m\u001b[0;34m\u001b[0m\u001b[0m\n\u001b[0;32m-> 2809\u001b[0;31m         \u001b[0mfp\u001b[0m \u001b[0;34m=\u001b[0m \u001b[0mbuiltins\u001b[0m\u001b[0;34m.\u001b[0m\u001b[0mopen\u001b[0m\u001b[0;34m(\u001b[0m\u001b[0mfilename\u001b[0m\u001b[0;34m,\u001b[0m \u001b[0;34m\"rb\"\u001b[0m\u001b[0;34m)\u001b[0m\u001b[0;34m\u001b[0m\u001b[0;34m\u001b[0m\u001b[0m\n\u001b[0m\u001b[1;32m   2810\u001b[0m         \u001b[0mexclusive_fp\u001b[0m \u001b[0;34m=\u001b[0m \u001b[0;32mTrue\u001b[0m\u001b[0;34m\u001b[0m\u001b[0;34m\u001b[0m\u001b[0m\n\u001b[1;32m   2811\u001b[0m \u001b[0;34m\u001b[0m\u001b[0m\n",
            "\u001b[0;31mIsADirectoryError\u001b[0m: [Errno 21] Is a directory: '/'"
          ]
        }
      ]
    },
    {
      "cell_type": "code",
      "metadata": {
        "id": "dYJUQC4FPNe3",
        "colab_type": "code",
        "colab": {
          "base_uri": "https://localhost:8080/",
          "height": 235
        },
        "outputId": "add53083-004a-49a0-f474-8403b119dfe9"
      },
      "source": [
        "# Create a linear SVC \n",
        "svc = LinearSVC()\n",
        "\n",
        "# Train the SVC Classifer using the .fit() method\n",
        "svc.fit(X_train, y_train)\n",
        "\n",
        "# Check the accuracy of the SVC\n",
        "print('Test Accuracy =', round(svc.score(X_test, y_test), 4))"
      ],
      "execution_count": 49,
      "outputs": [
        {
          "output_type": "error",
          "ename": "NameError",
          "evalue": "ignored",
          "traceback": [
            "\u001b[0;31m---------------------------------------------------------------------------\u001b[0m",
            "\u001b[0;31mNameError\u001b[0m                                 Traceback (most recent call last)",
            "\u001b[0;32m<ipython-input-49-dbe31b717a5c>\u001b[0m in \u001b[0;36m<module>\u001b[0;34m()\u001b[0m\n\u001b[1;32m      3\u001b[0m \u001b[0;34m\u001b[0m\u001b[0m\n\u001b[1;32m      4\u001b[0m \u001b[0;31m# Train the SVC Classifer using the .fit() method\u001b[0m\u001b[0;34m\u001b[0m\u001b[0;34m\u001b[0m\u001b[0;34m\u001b[0m\u001b[0m\n\u001b[0;32m----> 5\u001b[0;31m \u001b[0msvc\u001b[0m\u001b[0;34m.\u001b[0m\u001b[0mfit\u001b[0m\u001b[0;34m(\u001b[0m\u001b[0mX_train\u001b[0m\u001b[0;34m,\u001b[0m \u001b[0my_train\u001b[0m\u001b[0;34m)\u001b[0m\u001b[0;34m\u001b[0m\u001b[0;34m\u001b[0m\u001b[0m\n\u001b[0m\u001b[1;32m      6\u001b[0m \u001b[0;34m\u001b[0m\u001b[0m\n\u001b[1;32m      7\u001b[0m \u001b[0;31m# Check the accuracy of the SVC\u001b[0m\u001b[0;34m\u001b[0m\u001b[0;34m\u001b[0m\u001b[0;34m\u001b[0m\u001b[0m\n",
            "\u001b[0;31mNameError\u001b[0m: name 'X_train' is not defined"
          ]
        }
      ]
    },
    {
      "cell_type": "code",
      "metadata": {
        "id": "ZePovsaGRXgY",
        "colab_type": "code",
        "colab": {}
      },
      "source": [
        "def find_fishplates(img, ystart, ystop, scale, cspace, hog_channel, svc, X_scaler, orient, \n",
        "              pix_per_cell, cell_per_block, spatial_size, hist_bins, show_all_rectangles=False):\n",
        "    \n",
        "    # Define array of rectangles surrounding fishplates that were detected\n",
        "    rectangles = []\n",
        "    \n",
        "    # Normalize image\n",
        "    img = img.astype(np.float32)/255\n",
        "    search_img = img[ystart:ystop,:,:]\n",
        "\n",
        "    # Apply color conversion if other than 'RGB'\n",
        "    if cspace != 'RGB':\n",
        "        if cspace == 'HSV':\n",
        "            search_ctrans = cv2.cvtColor(search_img, cv2.COLOR_RGB2HSV)\n",
        "        elif cspace == 'YUV':\n",
        "            search_ctrans = cv2.cvtColor(search_img, cv2.COLOR_RGB2YUV)\n",
        "        elif cspace == 'YCrCb':\n",
        "            search_ctrans = cv2.cvtColor(search_img, cv2.COLOR_RGB2YCrCb)\n",
        "    else: search_ctrans = np.copy(image)   \n",
        "    \n",
        "    # Rescale image if not 1.0\n",
        "    if scale != 1:\n",
        "        img_shape = search_ctrans.shape\n",
        "        search_ctrans = cv2.resize(search_ctrans, (np.int(img_shape[1]/scale), np.int(img_shape[0]/scale)))\n",
        "    \n",
        "    # Select color channel for HOG \n",
        "    if hog_channel == 'ALL':\n",
        "        channel_1 = search_ctrans[:,:,0]\n",
        "        channel_2 = search_ctrans[:,:,1]\n",
        "        channel_3 = search_ctrans[:,:,2]\n",
        "    else: \n",
        "        channel_1 = ctrans_tosearch[:,:,hog_channel]\n",
        "\n",
        "    # Define blocks\n",
        "    nx_blocks = (channel_1.shape[1] // pix_per_cell)+1  #-1\n",
        "    ny_blocks = (channel_1.shape[0] // pix_per_cell)+1  #-1 \n",
        "    \n",
        "    # Define sampling rate with 8 cells and 8 pix per cell\n",
        "    window = 64\n",
        "    nblocks_per_window = (window // pix_per_cell)-1 \n",
        "    cells_per_step = 2\n",
        "    nx_steps = (nx_blocks - nblocks_per_window) // cells_per_step\n",
        "    ny_steps = (ny_blocks - nblocks_per_window) // cells_per_step\n",
        "    \n",
        "    # Compute individual channel HOG features for the entire image\n",
        "    hog1 = get_hog_features(channel_1, orient, pix_per_cell, cell_per_block, feature_vec=False)   \n",
        "    if hog_channel == 'ALL':\n",
        "        hog2 = get_hog_features(channel_2, orient, pix_per_cell, cell_per_block, feature_vec=False)\n",
        "        hog3 = get_hog_features(channel_3, orient, pix_per_cell, cell_per_block, feature_vec=False)\n",
        "    \n",
        "    for x in range(nx_steps):\n",
        "        for y in range(ny_steps):\n",
        "            y_position = y * cells_per_step\n",
        "            x_position = x * cells_per_step\n",
        "            # Extract HOG for this patch\n",
        "            hog_feat1 = hog1[y_position:y_position+nblocks_per_window, x_position:x_position+nblocks_per_window].ravel()\n",
        "            if hog_channel == 'ALL':\n",
        "                hog_feat2 = hog2[y_position:y_position+nblocks_per_window, x_position:x_position+nblocks_per_window].ravel() \n",
        "                hog_feat3 = hog3[y_position:y_position+nblocks_per_window, x_position:x_position+nblocks_per_window].ravel() \n",
        "                hog_features = np.hstack((hog_feat1, hog_feat2, hog_feat3))\n",
        "            else:\n",
        "                hog_features = hog_feat1\n",
        "\n",
        "            x_left = x_position*pix_per_cell\n",
        "            y_top = y_position*pix_per_cell\n",
        "            \n",
        "            test_prediction = svc.predict(hog_features)\n",
        "            \n",
        "            if test_prediction == 1 or show_all_rectangles:\n",
        "                x_box_left = np.int(x_left*scale)\n",
        "                y_top_draw = np.int(y_top*scale)\n",
        "                window_draw = np.int(window*scale)\n",
        "                rectangles.append(((x_box_left, y_top_draw+ystart),(x_box_left+window_draw,y_top_draw+window_draw+ystart)))\n",
        "                \n",
        "    return rectangles\n",
        "\n",
        "def draw_boxes(img, bboxes, color=(0, 0, 255), thick=6):\n",
        "    # Make a copy of the image\n",
        "    imcopy = np.copy(img)\n",
        "    random_color = False\n",
        "    # Iterate through the bounding boxes\n",
        "    for bbox in bboxes:\n",
        "        if color == 'random' or random_color:\n",
        "            color = (np.random.randint(0,255), np.random.randint(0,255), np.random.randint(0,255))\n",
        "            random_color = True\n",
        "        # Draw a rectangle given bbox coordinates\n",
        "        cv2.rectangle(imcopy, bbox[0], bbox[1], color, thick)\n",
        "    # Return the image copy with boxes drawn\n",
        "    return imcopy\n",
        "\n",
        "def draw_labeled_bboxes(img, labels):\n",
        "    # Iterate through all detected fishplates\n",
        "    rects = []\n",
        "    for fishplate_number in range(1, labels[1]+1):\n",
        "        # Find pixels with each fishplate_number label value\n",
        "        nonzero = (labels[0] == fishplate_number).nonzero()\n",
        "        # Identify x and y values of those pixels\n",
        "        nonzeroy = np.array(nonzero[0])\n",
        "        nonzerox = np.array(nonzero[1])\n",
        "        # Define a bounding box based on min/max x and y\n",
        "        bbox = ((np.min(nonzerox), np.min(nonzeroy)), (np.max(nonzerox), np.max(nonzeroy)))\n",
        "        rects.append(bbox)\n",
        "        # Draw the box on the image\n",
        "        cv2.rectangle(img, bbox[0], bbox[1], (0,0,255), 6)\n",
        "    # Return the image and final rectangles\n",
        "    return img, rect"
      ],
      "execution_count": 50,
      "outputs": []
    },
    {
      "cell_type": "code",
      "metadata": {
        "id": "ffwo3n6iSFEb",
        "colab_type": "code",
        "colab": {
          "base_uri": "https://localhost:8080/",
          "height": 374
        },
        "outputId": "3c6e5af3-ff39-4dd2-ff1f-5f9f61a883b4"
      },
      "source": [
        "# Get test image\n",
        "test_img = mpimg.imread('/content/drive/My Drive/Mod1-IITR/314_1.PNG')\n",
        "\n",
        "# Set parameters for find_fishplates function\n",
        "ystart = 400\n",
        "ystop = 660\n",
        "scale = 1.5\n",
        "colorspace = 'YUV' # Can be RGB, HSV, LUV, HLS, YUV, YCrCb\n",
        "orient = 11\n",
        "pix_per_cell = 16\n",
        "cell_per_block = 2\n",
        "hog_channel = 'ALL' # Can be 0, 1, 2, or \"ALL\"\n",
        "\n",
        "# Get output rectangles surrounding the fishplates we found\n",
        "rectangles = find_fishplates(test_img, ystart, ystop, scale, colorspace, \n",
        "                       hog_channel, svc, None, orient, pix_per_cell,\n",
        "                       cell_per_block, None, None)\n",
        "\n",
        "# Draw boxes where fishplates are located in test image\n",
        "test_img_rects = draw_boxes(test_img, rectangles)\n",
        "\n",
        "# Plot the new image\n",
        "plt.figure(figsize=(10,10))\n",
        "plt.imshow(test_img_rects)"
      ],
      "execution_count": 51,
      "outputs": [
        {
          "output_type": "error",
          "ename": "error",
          "evalue": "ignored",
          "traceback": [
            "\u001b[0;31m---------------------------------------------------------------------------\u001b[0m",
            "\u001b[0;31merror\u001b[0m                                     Traceback (most recent call last)",
            "\u001b[0;32m<ipython-input-51-f82e8cf8525d>\u001b[0m in \u001b[0;36m<module>\u001b[0;34m()\u001b[0m\n\u001b[1;32m     15\u001b[0m rectangles = find_fishplates(test_img, ystart, ystop, scale, colorspace, \n\u001b[1;32m     16\u001b[0m                        \u001b[0mhog_channel\u001b[0m\u001b[0;34m,\u001b[0m \u001b[0msvc\u001b[0m\u001b[0;34m,\u001b[0m \u001b[0;32mNone\u001b[0m\u001b[0;34m,\u001b[0m \u001b[0morient\u001b[0m\u001b[0;34m,\u001b[0m \u001b[0mpix_per_cell\u001b[0m\u001b[0;34m,\u001b[0m\u001b[0;34m\u001b[0m\u001b[0;34m\u001b[0m\u001b[0m\n\u001b[0;32m---> 17\u001b[0;31m                        cell_per_block, None, None)\n\u001b[0m\u001b[1;32m     18\u001b[0m \u001b[0;34m\u001b[0m\u001b[0m\n\u001b[1;32m     19\u001b[0m \u001b[0;31m# Draw boxes where fishplates are located in test image\u001b[0m\u001b[0;34m\u001b[0m\u001b[0;34m\u001b[0m\u001b[0;34m\u001b[0m\u001b[0m\n",
            "\u001b[0;32m<ipython-input-50-4f4242672cb8>\u001b[0m in \u001b[0;36mfind_fishplates\u001b[0;34m(img, ystart, ystop, scale, cspace, hog_channel, svc, X_scaler, orient, pix_per_cell, cell_per_block, spatial_size, hist_bins, show_all_rectangles)\u001b[0m\n\u001b[1;32m     14\u001b[0m             \u001b[0msearch_ctrans\u001b[0m \u001b[0;34m=\u001b[0m \u001b[0mcv2\u001b[0m\u001b[0;34m.\u001b[0m\u001b[0mcvtColor\u001b[0m\u001b[0;34m(\u001b[0m\u001b[0msearch_img\u001b[0m\u001b[0;34m,\u001b[0m \u001b[0mcv2\u001b[0m\u001b[0;34m.\u001b[0m\u001b[0mCOLOR_RGB2HSV\u001b[0m\u001b[0;34m)\u001b[0m\u001b[0;34m\u001b[0m\u001b[0;34m\u001b[0m\u001b[0m\n\u001b[1;32m     15\u001b[0m         \u001b[0;32melif\u001b[0m \u001b[0mcspace\u001b[0m \u001b[0;34m==\u001b[0m \u001b[0;34m'YUV'\u001b[0m\u001b[0;34m:\u001b[0m\u001b[0;34m\u001b[0m\u001b[0;34m\u001b[0m\u001b[0m\n\u001b[0;32m---> 16\u001b[0;31m             \u001b[0msearch_ctrans\u001b[0m \u001b[0;34m=\u001b[0m \u001b[0mcv2\u001b[0m\u001b[0;34m.\u001b[0m\u001b[0mcvtColor\u001b[0m\u001b[0;34m(\u001b[0m\u001b[0msearch_img\u001b[0m\u001b[0;34m,\u001b[0m \u001b[0mcv2\u001b[0m\u001b[0;34m.\u001b[0m\u001b[0mCOLOR_RGB2YUV\u001b[0m\u001b[0;34m)\u001b[0m\u001b[0;34m\u001b[0m\u001b[0;34m\u001b[0m\u001b[0m\n\u001b[0m\u001b[1;32m     17\u001b[0m         \u001b[0;32melif\u001b[0m \u001b[0mcspace\u001b[0m \u001b[0;34m==\u001b[0m \u001b[0;34m'YCrCb'\u001b[0m\u001b[0;34m:\u001b[0m\u001b[0;34m\u001b[0m\u001b[0;34m\u001b[0m\u001b[0m\n\u001b[1;32m     18\u001b[0m             \u001b[0msearch_ctrans\u001b[0m \u001b[0;34m=\u001b[0m \u001b[0mcv2\u001b[0m\u001b[0;34m.\u001b[0m\u001b[0mcvtColor\u001b[0m\u001b[0;34m(\u001b[0m\u001b[0msearch_img\u001b[0m\u001b[0;34m,\u001b[0m \u001b[0mcv2\u001b[0m\u001b[0;34m.\u001b[0m\u001b[0mCOLOR_RGB2YCrCb\u001b[0m\u001b[0;34m)\u001b[0m\u001b[0;34m\u001b[0m\u001b[0;34m\u001b[0m\u001b[0m\n",
            "\u001b[0;31merror\u001b[0m: OpenCV(4.1.2) /io/opencv/modules/imgproc/src/color.cpp:182: error: (-215:Assertion failed) !_src.empty() in function 'cvtColor'\n"
          ]
        }
      ]
    },
    {
      "cell_type": "code",
      "metadata": {
        "id": "hfAAVqu9SX_x",
        "colab_type": "code",
        "colab": {
          "base_uri": "https://localhost:8080/",
          "height": 391
        },
        "outputId": "3faf5d69-c2e5-495a-8f53-06f176e2890e"
      },
      "source": [
        "# Load test image\n",
        "test_img = mpimg.imread('/content/drive/My Drive/Mod1-IITR/314_1.PNG')\n",
        "\n",
        "# Create array to hold the select boxes where we found fishplates\n",
        "rects = []\n",
        "\n",
        "# Set search dimensions for layer\n",
        "ystart = 400\n",
        "ystop = 470\n",
        "scale = 1.0\n",
        "\n",
        "# Find rectanlges in image and add them to the list\n",
        "rects.append(find_fishplates(test_img, ystart, ystop, scale, colorspace, hog_channel, svc, None, \n",
        "                       orient, pix_per_cell, cell_per_block, None, None, show_all_rectangles=True))\n",
        "\n",
        "# Set search dimensions for layer\n",
        "ystart = 420\n",
        "ystop = 480\n",
        "scale = 1.0\n",
        "\n",
        "# Find rectangles in image and add them to the list\n",
        "rects.append(find_fishplates(test_img, ystart, ystop, scale, colorspace, hog_channel, svc, None, \n",
        "                       orient, pix_per_cell, cell_per_block, None, None, show_all_rectangles=True))\n",
        "\n",
        "# Flatten the list of lists\n",
        "rectangles = [item for sublist in rects for item in sublist]\n",
        "test_img_rects = draw_boxes(test_img, rectangles)\n",
        "\n",
        "# Plot the rectangles on the image\n",
        "plt.figure(figsize=(10,10))\n",
        "plt.imshow(test_img_rects)\n",
        "print('Number of potential fishplate: ', len(rectangles))"
      ],
      "execution_count": 54,
      "outputs": [
        {
          "output_type": "error",
          "ename": "error",
          "evalue": "ignored",
          "traceback": [
            "\u001b[0;31m---------------------------------------------------------------------------\u001b[0m",
            "\u001b[0;31merror\u001b[0m                                     Traceback (most recent call last)",
            "\u001b[0;32m<ipython-input-54-0c319a3b7ed1>\u001b[0m in \u001b[0;36m<module>\u001b[0;34m()\u001b[0m\n\u001b[1;32m     12\u001b[0m \u001b[0;31m# Find rectanlges in image and add them to the list\u001b[0m\u001b[0;34m\u001b[0m\u001b[0;34m\u001b[0m\u001b[0;34m\u001b[0m\u001b[0m\n\u001b[1;32m     13\u001b[0m rects.append(find_fishplates(test_img, ystart, ystop, scale, colorspace, hog_channel, svc, None, \n\u001b[0;32m---> 14\u001b[0;31m                        orient, pix_per_cell, cell_per_block, None, None, show_all_rectangles=True))\n\u001b[0m\u001b[1;32m     15\u001b[0m \u001b[0;34m\u001b[0m\u001b[0m\n\u001b[1;32m     16\u001b[0m \u001b[0;31m# Set search dimensions for layer\u001b[0m\u001b[0;34m\u001b[0m\u001b[0;34m\u001b[0m\u001b[0;34m\u001b[0m\u001b[0m\n",
            "\u001b[0;32m<ipython-input-50-4f4242672cb8>\u001b[0m in \u001b[0;36mfind_fishplates\u001b[0;34m(img, ystart, ystop, scale, cspace, hog_channel, svc, X_scaler, orient, pix_per_cell, cell_per_block, spatial_size, hist_bins, show_all_rectangles)\u001b[0m\n\u001b[1;32m     14\u001b[0m             \u001b[0msearch_ctrans\u001b[0m \u001b[0;34m=\u001b[0m \u001b[0mcv2\u001b[0m\u001b[0;34m.\u001b[0m\u001b[0mcvtColor\u001b[0m\u001b[0;34m(\u001b[0m\u001b[0msearch_img\u001b[0m\u001b[0;34m,\u001b[0m \u001b[0mcv2\u001b[0m\u001b[0;34m.\u001b[0m\u001b[0mCOLOR_RGB2HSV\u001b[0m\u001b[0;34m)\u001b[0m\u001b[0;34m\u001b[0m\u001b[0;34m\u001b[0m\u001b[0m\n\u001b[1;32m     15\u001b[0m         \u001b[0;32melif\u001b[0m \u001b[0mcspace\u001b[0m \u001b[0;34m==\u001b[0m \u001b[0;34m'YUV'\u001b[0m\u001b[0;34m:\u001b[0m\u001b[0;34m\u001b[0m\u001b[0;34m\u001b[0m\u001b[0m\n\u001b[0;32m---> 16\u001b[0;31m             \u001b[0msearch_ctrans\u001b[0m \u001b[0;34m=\u001b[0m \u001b[0mcv2\u001b[0m\u001b[0;34m.\u001b[0m\u001b[0mcvtColor\u001b[0m\u001b[0;34m(\u001b[0m\u001b[0msearch_img\u001b[0m\u001b[0;34m,\u001b[0m \u001b[0mcv2\u001b[0m\u001b[0;34m.\u001b[0m\u001b[0mCOLOR_RGB2YUV\u001b[0m\u001b[0;34m)\u001b[0m\u001b[0;34m\u001b[0m\u001b[0;34m\u001b[0m\u001b[0m\n\u001b[0m\u001b[1;32m     17\u001b[0m         \u001b[0;32melif\u001b[0m \u001b[0mcspace\u001b[0m \u001b[0;34m==\u001b[0m \u001b[0;34m'YCrCb'\u001b[0m\u001b[0;34m:\u001b[0m\u001b[0;34m\u001b[0m\u001b[0;34m\u001b[0m\u001b[0m\n\u001b[1;32m     18\u001b[0m             \u001b[0msearch_ctrans\u001b[0m \u001b[0;34m=\u001b[0m \u001b[0mcv2\u001b[0m\u001b[0;34m.\u001b[0m\u001b[0mcvtColor\u001b[0m\u001b[0;34m(\u001b[0m\u001b[0msearch_img\u001b[0m\u001b[0;34m,\u001b[0m \u001b[0mcv2\u001b[0m\u001b[0;34m.\u001b[0m\u001b[0mCOLOR_RGB2YCrCb\u001b[0m\u001b[0;34m)\u001b[0m\u001b[0;34m\u001b[0m\u001b[0;34m\u001b[0m\u001b[0m\n",
            "\u001b[0;31merror\u001b[0m: OpenCV(4.1.2) /io/opencv/modules/imgproc/src/color.cpp:182: error: (-215:Assertion failed) !_src.empty() in function 'cvtColor'\n"
          ]
        }
      ]
    },
    {
      "cell_type": "code",
      "metadata": {
        "id": "k6oHdHX-ZcQr",
        "colab_type": "code",
        "colab": {
          "base_uri": "https://localhost:8080/",
          "height": 391
        },
        "outputId": "39fa708d-00ad-44d4-f10f-f32ec335c281"
      },
      "source": [
        "# Load test image\n",
        "test_img = mpimg.imread('/content/drive/My Drive/Mod1-IITR/314_1.PNG')\n",
        "\n",
        "# Create array to hold the select boxes where we found fishplates\n",
        "rects = []\n",
        "\n",
        "# Set search dimensions for layer\n",
        "ystart = 400\n",
        "ystop = 600\n",
        "scale = 3.0\n",
        "\n",
        "# Find rectangles in image and add them to the list\n",
        "rects.append(find_fishplates(test_img, ystart, ystop, scale, colorspace, hog_channel, svc, None, \n",
        "                       orient, pix_per_cell, cell_per_block, None, None, show_all_rectangles=True))\n",
        "\n",
        "# Set search dimensions for layer\n",
        "ystart = 464\n",
        "ystop = 660\n",
        "scale = 3.0\n",
        "rects.append(find_fishplates(test_img, ystart, ystop, scale, colorspace, hog_channel, svc, None, \n",
        "                       orient, pix_per_cell, cell_per_block, None, None, show_all_rectangles=True))\n",
        "\n",
        "# Flatten the list of lists\n",
        "rectangles = [item for sublist in rects for item in sublist] \n",
        "test_img_rects = draw_boxes(test_img, rectangles)\n",
        "\n",
        "# Plot the rectangles on the image\n",
        "plt.figure(figsize=(10,10))\n",
        "plt.imshow(test_img_rects)\n",
        "print('Number of potential fishplates: ', len(rectangles))"
      ],
      "execution_count": 56,
      "outputs": [
        {
          "output_type": "error",
          "ename": "error",
          "evalue": "ignored",
          "traceback": [
            "\u001b[0;31m---------------------------------------------------------------------------\u001b[0m",
            "\u001b[0;31merror\u001b[0m                                     Traceback (most recent call last)",
            "\u001b[0;32m<ipython-input-56-8b30d7d46a26>\u001b[0m in \u001b[0;36m<module>\u001b[0;34m()\u001b[0m\n\u001b[1;32m     12\u001b[0m \u001b[0;31m# Find rectangles in image and add them to the list\u001b[0m\u001b[0;34m\u001b[0m\u001b[0;34m\u001b[0m\u001b[0;34m\u001b[0m\u001b[0m\n\u001b[1;32m     13\u001b[0m rects.append(find_fishplates(test_img, ystart, ystop, scale, colorspace, hog_channel, svc, None, \n\u001b[0;32m---> 14\u001b[0;31m                        orient, pix_per_cell, cell_per_block, None, None, show_all_rectangles=True))\n\u001b[0m\u001b[1;32m     15\u001b[0m \u001b[0;34m\u001b[0m\u001b[0m\n\u001b[1;32m     16\u001b[0m \u001b[0;31m# Set search dimensions for layer\u001b[0m\u001b[0;34m\u001b[0m\u001b[0;34m\u001b[0m\u001b[0;34m\u001b[0m\u001b[0m\n",
            "\u001b[0;32m<ipython-input-50-4f4242672cb8>\u001b[0m in \u001b[0;36mfind_fishplates\u001b[0;34m(img, ystart, ystop, scale, cspace, hog_channel, svc, X_scaler, orient, pix_per_cell, cell_per_block, spatial_size, hist_bins, show_all_rectangles)\u001b[0m\n\u001b[1;32m     14\u001b[0m             \u001b[0msearch_ctrans\u001b[0m \u001b[0;34m=\u001b[0m \u001b[0mcv2\u001b[0m\u001b[0;34m.\u001b[0m\u001b[0mcvtColor\u001b[0m\u001b[0;34m(\u001b[0m\u001b[0msearch_img\u001b[0m\u001b[0;34m,\u001b[0m \u001b[0mcv2\u001b[0m\u001b[0;34m.\u001b[0m\u001b[0mCOLOR_RGB2HSV\u001b[0m\u001b[0;34m)\u001b[0m\u001b[0;34m\u001b[0m\u001b[0;34m\u001b[0m\u001b[0m\n\u001b[1;32m     15\u001b[0m         \u001b[0;32melif\u001b[0m \u001b[0mcspace\u001b[0m \u001b[0;34m==\u001b[0m \u001b[0;34m'YUV'\u001b[0m\u001b[0;34m:\u001b[0m\u001b[0;34m\u001b[0m\u001b[0;34m\u001b[0m\u001b[0m\n\u001b[0;32m---> 16\u001b[0;31m             \u001b[0msearch_ctrans\u001b[0m \u001b[0;34m=\u001b[0m \u001b[0mcv2\u001b[0m\u001b[0;34m.\u001b[0m\u001b[0mcvtColor\u001b[0m\u001b[0;34m(\u001b[0m\u001b[0msearch_img\u001b[0m\u001b[0;34m,\u001b[0m \u001b[0mcv2\u001b[0m\u001b[0;34m.\u001b[0m\u001b[0mCOLOR_RGB2YUV\u001b[0m\u001b[0;34m)\u001b[0m\u001b[0;34m\u001b[0m\u001b[0;34m\u001b[0m\u001b[0m\n\u001b[0m\u001b[1;32m     17\u001b[0m         \u001b[0;32melif\u001b[0m \u001b[0mcspace\u001b[0m \u001b[0;34m==\u001b[0m \u001b[0;34m'YCrCb'\u001b[0m\u001b[0;34m:\u001b[0m\u001b[0;34m\u001b[0m\u001b[0;34m\u001b[0m\u001b[0m\n\u001b[1;32m     18\u001b[0m             \u001b[0msearch_ctrans\u001b[0m \u001b[0;34m=\u001b[0m \u001b[0mcv2\u001b[0m\u001b[0;34m.\u001b[0m\u001b[0mcvtColor\u001b[0m\u001b[0;34m(\u001b[0m\u001b[0msearch_img\u001b[0m\u001b[0;34m,\u001b[0m \u001b[0mcv2\u001b[0m\u001b[0;34m.\u001b[0m\u001b[0mCOLOR_RGB2YCrCb\u001b[0m\u001b[0;34m)\u001b[0m\u001b[0;34m\u001b[0m\u001b[0;34m\u001b[0m\u001b[0m\n",
            "\u001b[0;31merror\u001b[0m: OpenCV(4.1.2) /io/opencv/modules/imgproc/src/color.cpp:182: error: (-215:Assertion failed) !_src.empty() in function 'cvtColor'\n"
          ]
        }
      ]
    },
    {
      "cell_type": "code",
      "metadata": {
        "id": "A1LZEKsbZ-ED",
        "colab_type": "code",
        "colab": {
          "base_uri": "https://localhost:8080/",
          "height": 391
        },
        "outputId": "596ed5f1-6963-4d9b-c41a-9df4cbcfaa6e"
      },
      "source": [
        "# Load test image\n",
        "test_img = mpimg.imread('/content/drive/My Drive/Mod1-IITR/314_1.PNG')\n",
        "\n",
        "# Create array to hold the select boxes where we found cars\n",
        "rectangles = []\n",
        "\n",
        "colorspace = 'YUV' # Can be RGB, HSV, LUV, HLS, YUV, YCrCb\n",
        "orient = 11\n",
        "pix_per_cell = 16\n",
        "cell_per_block = 2\n",
        "hog_channel = 'ALL' # Can be 0, 1, 2, or \"ALL\"\n",
        "\n",
        "# Set search dimensions for layer\n",
        "ystart = 400\n",
        "ystop = 464\n",
        "scale = 1.0\n",
        "\n",
        "# Find rectangles in image and add them to the list\n",
        "rectangles.append(find_fishplates(test_img, ystart, ystop, scale, colorspace, hog_channel, svc, None, \n",
        "                       orient, pix_per_cell, cell_per_block, None, None))\n",
        "\n",
        "# Set search dimensions for layer\n",
        "ystart = 416\n",
        "ystop = 480\n",
        "scale = 1.0\n",
        "\n",
        "# Find rectangles in image and add them to the list\n",
        "rectangles.append(find_fishplates(test_img, ystart, ystop, scale, colorspace, hog_channel, svc, None, \n",
        "                       orient, pix_per_cell, cell_per_block, None, None))\n",
        "\n",
        "# Set search dimensions for layer\n",
        "ystart = 400\n",
        "ystop = 496\n",
        "scale = 1.5\n",
        "\n",
        "# Find rectangles in image and add them to the list\n",
        "rectangles.append(find_fishplates(test_img, ystart, ystop, scale, colorspace, hog_channel, svc, None, \n",
        "                       orient, pix_per_cell, cell_per_block, None, None))\n",
        "\n",
        "# Set search dimensions for layer\n",
        "ystart = 432\n",
        "ystop = 528\n",
        "scale = 1.5\n",
        "\n",
        "# Find rectangles in image and add them to the list\n",
        "rectangles.append(find_fishplates(test_img, ystart, ystop, scale, colorspace, hog_channel, svc, None, \n",
        "                       orient, pix_per_cell, cell_per_block, None, None))\n",
        "\n",
        "# Set search dimensions for layer\n",
        "ystart = 400\n",
        "ystop = 528\n",
        "scale = 2.0\n",
        "\n",
        "# Find rectangles in image and add them to the list\n",
        "rectangles.append(find_fishplates(test_img, ystart, ystop, scale, colorspace, hog_channel, svc, None, \n",
        "                       orient, pix_per_cell, cell_per_block, None, None))\n",
        "\n",
        "# Set search dimensions for layer\n",
        "ystart = 432\n",
        "ystop = 560\n",
        "scale = 2.0\n",
        "\n",
        "# Find rectangles in image and add them to the list\n",
        "rectangles.append(find_fishplates(test_img, ystart, ystop, scale, colorspace, hog_channel, svc, None, \n",
        "                       orient, pix_per_cell, cell_per_block, None, None))\n",
        "\n",
        "# Set search dimensions for layer\n",
        "ystart = 400\n",
        "ystop = 596\n",
        "scale = 3.5\n",
        "\n",
        "# Find rectangles in image and add them to the list\n",
        "rectangles.append(find_fishplates(test_img, ystart, ystop, scale, colorspace, hog_channel, svc, None, \n",
        "                       orient, pix_per_cell, cell_per_block, None, None))\n",
        "\n",
        "# Set search dimensions for layer\n",
        "ystart = 464\n",
        "ystop = 660\n",
        "scale = 3.5\n",
        "\n",
        "# Find rectangles in image and add them to the list\n",
        "rectangles.append(find_fishplates(test_img, ystart, ystop, scale, colorspace, hog_channel, svc, None, \n",
        "                       orient, pix_per_cell, cell_per_block, None, None))\n",
        "\n",
        "# Flatten the list of lists\n",
        "rectangles = [item for sublist in rectangles for item in sublist] \n",
        "test_img_rects = draw_boxes(test_img, rectangles)\n",
        "\n",
        "# Plot the rectangles on the image\n",
        "plt.figure(figsize=(10,10))\n",
        "plt.imshow(test_img_rects)"
      ],
      "execution_count": 57,
      "outputs": [
        {
          "output_type": "error",
          "ename": "error",
          "evalue": "ignored",
          "traceback": [
            "\u001b[0;31m---------------------------------------------------------------------------\u001b[0m",
            "\u001b[0;31merror\u001b[0m                                     Traceback (most recent call last)",
            "\u001b[0;32m<ipython-input-57-ee5519a16e3f>\u001b[0m in \u001b[0;36m<module>\u001b[0;34m()\u001b[0m\n\u001b[1;32m     18\u001b[0m \u001b[0;31m# Find rectangles in image and add them to the list\u001b[0m\u001b[0;34m\u001b[0m\u001b[0;34m\u001b[0m\u001b[0;34m\u001b[0m\u001b[0m\n\u001b[1;32m     19\u001b[0m rectangles.append(find_fishplates(test_img, ystart, ystop, scale, colorspace, hog_channel, svc, None, \n\u001b[0;32m---> 20\u001b[0;31m                        orient, pix_per_cell, cell_per_block, None, None))\n\u001b[0m\u001b[1;32m     21\u001b[0m \u001b[0;34m\u001b[0m\u001b[0m\n\u001b[1;32m     22\u001b[0m \u001b[0;31m# Set search dimensions for layer\u001b[0m\u001b[0;34m\u001b[0m\u001b[0;34m\u001b[0m\u001b[0;34m\u001b[0m\u001b[0m\n",
            "\u001b[0;32m<ipython-input-50-4f4242672cb8>\u001b[0m in \u001b[0;36mfind_fishplates\u001b[0;34m(img, ystart, ystop, scale, cspace, hog_channel, svc, X_scaler, orient, pix_per_cell, cell_per_block, spatial_size, hist_bins, show_all_rectangles)\u001b[0m\n\u001b[1;32m     14\u001b[0m             \u001b[0msearch_ctrans\u001b[0m \u001b[0;34m=\u001b[0m \u001b[0mcv2\u001b[0m\u001b[0;34m.\u001b[0m\u001b[0mcvtColor\u001b[0m\u001b[0;34m(\u001b[0m\u001b[0msearch_img\u001b[0m\u001b[0;34m,\u001b[0m \u001b[0mcv2\u001b[0m\u001b[0;34m.\u001b[0m\u001b[0mCOLOR_RGB2HSV\u001b[0m\u001b[0;34m)\u001b[0m\u001b[0;34m\u001b[0m\u001b[0;34m\u001b[0m\u001b[0m\n\u001b[1;32m     15\u001b[0m         \u001b[0;32melif\u001b[0m \u001b[0mcspace\u001b[0m \u001b[0;34m==\u001b[0m \u001b[0;34m'YUV'\u001b[0m\u001b[0;34m:\u001b[0m\u001b[0;34m\u001b[0m\u001b[0;34m\u001b[0m\u001b[0m\n\u001b[0;32m---> 16\u001b[0;31m             \u001b[0msearch_ctrans\u001b[0m \u001b[0;34m=\u001b[0m \u001b[0mcv2\u001b[0m\u001b[0;34m.\u001b[0m\u001b[0mcvtColor\u001b[0m\u001b[0;34m(\u001b[0m\u001b[0msearch_img\u001b[0m\u001b[0;34m,\u001b[0m \u001b[0mcv2\u001b[0m\u001b[0;34m.\u001b[0m\u001b[0mCOLOR_RGB2YUV\u001b[0m\u001b[0;34m)\u001b[0m\u001b[0;34m\u001b[0m\u001b[0;34m\u001b[0m\u001b[0m\n\u001b[0m\u001b[1;32m     17\u001b[0m         \u001b[0;32melif\u001b[0m \u001b[0mcspace\u001b[0m \u001b[0;34m==\u001b[0m \u001b[0;34m'YCrCb'\u001b[0m\u001b[0;34m:\u001b[0m\u001b[0;34m\u001b[0m\u001b[0;34m\u001b[0m\u001b[0m\n\u001b[1;32m     18\u001b[0m             \u001b[0msearch_ctrans\u001b[0m \u001b[0;34m=\u001b[0m \u001b[0mcv2\u001b[0m\u001b[0;34m.\u001b[0m\u001b[0mcvtColor\u001b[0m\u001b[0;34m(\u001b[0m\u001b[0msearch_img\u001b[0m\u001b[0;34m,\u001b[0m \u001b[0mcv2\u001b[0m\u001b[0;34m.\u001b[0m\u001b[0mCOLOR_RGB2YCrCb\u001b[0m\u001b[0;34m)\u001b[0m\u001b[0;34m\u001b[0m\u001b[0;34m\u001b[0m\u001b[0m\n",
            "\u001b[0;31merror\u001b[0m: OpenCV(4.1.2) /io/opencv/modules/imgproc/src/color.cpp:182: error: (-215:Assertion failed) !_src.empty() in function 'cvtColor'\n"
          ]
        }
      ]
    },
    {
      "cell_type": "code",
      "metadata": {
        "id": "GS674rAnakTz",
        "colab_type": "code",
        "colab": {
          "base_uri": "https://localhost:8080/",
          "height": 235
        },
        "outputId": "0e21766a-f502-45ac-af1f-f89c62802e54"
      },
      "source": [
        "def add_heat(heatmap, bbox_list):\n",
        "    # Iterate through list of bboxes\n",
        "    for box in bbox_list:\n",
        "        # Add += 1 for all pixels inside each bbox\n",
        "        # Assuming each \"box\" takes the form ((x1, y1), (x2, y2))\n",
        "        heatmap[box[0][1]:box[1][1], box[0][0]:box[1][0]] += 1\n",
        "    # Return updated heatmap\n",
        "    return heatmap\n",
        "\n",
        "def apply_threshold(heatmap, threshold):\n",
        "    # Zero out pixels below the threshold\n",
        "    heatmap[heatmap <= threshold] = 0\n",
        "    # Return thresholded map\n",
        "    return heatmap\n",
        "\n",
        "# Test heatmap on test image\n",
        "heatmap_img = np.zeros_like(test_img[:,:,0])\n",
        "heatmap_img = add_heat(heatmap_img, rectangles)\n",
        "\n",
        "# Plot result\n",
        "plt.figure(figsize=(10,10))\n",
        "plt.imshow(heatmap_img, cmap='hot')"
      ],
      "execution_count": 58,
      "outputs": [
        {
          "output_type": "error",
          "ename": "NameError",
          "evalue": "ignored",
          "traceback": [
            "\u001b[0;31m---------------------------------------------------------------------------\u001b[0m",
            "\u001b[0;31mNameError\u001b[0m                                 Traceback (most recent call last)",
            "\u001b[0;32m<ipython-input-58-33461c8e72c8>\u001b[0m in \u001b[0;36m<module>\u001b[0;34m()\u001b[0m\n\u001b[1;32m      1\u001b[0m \u001b[0;31m# Draw bounding boxes on a copy of the image\u001b[0m\u001b[0;34m\u001b[0m\u001b[0;34m\u001b[0m\u001b[0;34m\u001b[0m\u001b[0m\n\u001b[0;32m----> 2\u001b[0;31m \u001b[0mdraw_img\u001b[0m\u001b[0;34m,\u001b[0m \u001b[0mrect\u001b[0m \u001b[0;34m=\u001b[0m \u001b[0mdraw_labeled_bboxes\u001b[0m\u001b[0;34m(\u001b[0m\u001b[0mnp\u001b[0m\u001b[0;34m.\u001b[0m\u001b[0mcopy\u001b[0m\u001b[0;34m(\u001b[0m\u001b[0mtest_img\u001b[0m\u001b[0;34m)\u001b[0m\u001b[0;34m,\u001b[0m \u001b[0mlabels\u001b[0m\u001b[0;34m)\u001b[0m\u001b[0;34m\u001b[0m\u001b[0;34m\u001b[0m\u001b[0m\n\u001b[0m\u001b[1;32m      3\u001b[0m \u001b[0;31m# Display the image\u001b[0m\u001b[0;34m\u001b[0m\u001b[0;34m\u001b[0m\u001b[0;34m\u001b[0m\u001b[0m\n\u001b[1;32m      4\u001b[0m \u001b[0mplt\u001b[0m\u001b[0;34m.\u001b[0m\u001b[0mfigure\u001b[0m\u001b[0;34m(\u001b[0m\u001b[0mfigsize\u001b[0m\u001b[0;34m=\u001b[0m\u001b[0;34m(\u001b[0m\u001b[0;36m10\u001b[0m\u001b[0;34m,\u001b[0m\u001b[0;36m10\u001b[0m\u001b[0;34m)\u001b[0m\u001b[0;34m)\u001b[0m\u001b[0;34m\u001b[0m\u001b[0;34m\u001b[0m\u001b[0m\n\u001b[1;32m      5\u001b[0m \u001b[0mplt\u001b[0m\u001b[0;34m.\u001b[0m\u001b[0mimshow\u001b[0m\u001b[0;34m(\u001b[0m\u001b[0mdraw_img\u001b[0m\u001b[0;34m)\u001b[0m\u001b[0;34m\u001b[0m\u001b[0;34m\u001b[0m\u001b[0m\n",
            "\u001b[0;31mNameError\u001b[0m: name 'labels' is not defined"
          ]
        }
      ]
    },
    {
      "cell_type": "code",
      "metadata": {
        "id": "uC637PqnarNS",
        "colab_type": "code",
        "colab": {
          "base_uri": "https://localhost:8080/",
          "height": 235
        },
        "outputId": "1ec8a6f5-33e2-4f32-aa02-a984c939f413"
      },
      "source": [
        "# Threshold the heat map so it only shows places with lots of heat\n",
        "heatmap_img = apply_threshold(heatmap_img, 1)\n",
        "\n",
        "# Plot the updated heatmap\n",
        "plt.figure(figsize=(10,10)) \n",
        "plt.imshow(heatmap_img, cmap='hot')\n",
        "\n",
        "# Get labels from heatmap image\n",
        "labels = label(heatmap_img)"
      ],
      "execution_count": 59,
      "outputs": [
        {
          "output_type": "error",
          "ename": "NameError",
          "evalue": "ignored",
          "traceback": [
            "\u001b[0;31m---------------------------------------------------------------------------\u001b[0m",
            "\u001b[0;31mNameError\u001b[0m                                 Traceback (most recent call last)",
            "\u001b[0;32m<ipython-input-59-8a7f0fb225ed>\u001b[0m in \u001b[0;36m<module>\u001b[0;34m()\u001b[0m\n\u001b[1;32m      1\u001b[0m \u001b[0;31m# Threshold the heat map so it only shows places with lots of heat\u001b[0m\u001b[0;34m\u001b[0m\u001b[0;34m\u001b[0m\u001b[0;34m\u001b[0m\u001b[0m\n\u001b[0;32m----> 2\u001b[0;31m \u001b[0mheatmap_img\u001b[0m \u001b[0;34m=\u001b[0m \u001b[0mapply_threshold\u001b[0m\u001b[0;34m(\u001b[0m\u001b[0mheatmap_img\u001b[0m\u001b[0;34m,\u001b[0m \u001b[0;36m1\u001b[0m\u001b[0;34m)\u001b[0m\u001b[0;34m\u001b[0m\u001b[0;34m\u001b[0m\u001b[0m\n\u001b[0m\u001b[1;32m      3\u001b[0m \u001b[0;34m\u001b[0m\u001b[0m\n\u001b[1;32m      4\u001b[0m \u001b[0;31m# Plot the updated heatmap\u001b[0m\u001b[0;34m\u001b[0m\u001b[0;34m\u001b[0m\u001b[0;34m\u001b[0m\u001b[0m\n\u001b[1;32m      5\u001b[0m \u001b[0mplt\u001b[0m\u001b[0;34m.\u001b[0m\u001b[0mfigure\u001b[0m\u001b[0;34m(\u001b[0m\u001b[0mfigsize\u001b[0m\u001b[0;34m=\u001b[0m\u001b[0;34m(\u001b[0m\u001b[0;36m10\u001b[0m\u001b[0;34m,\u001b[0m\u001b[0;36m10\u001b[0m\u001b[0;34m)\u001b[0m\u001b[0;34m)\u001b[0m\u001b[0;34m\u001b[0m\u001b[0;34m\u001b[0m\u001b[0m\n",
            "\u001b[0;31mNameError\u001b[0m: name 'apply_threshold' is not defined"
          ]
        }
      ]
    },
    {
      "cell_type": "code",
      "metadata": {
        "id": "1IlO0p0SbPSk",
        "colab_type": "code",
        "colab": {
          "base_uri": "https://localhost:8080/",
          "height": 235
        },
        "outputId": "3aa847bf-7581-4f9a-87c8-0747b051b7e7"
      },
      "source": [
        "# Draw bounding boxes on a copy of the image\n",
        "draw_img, rect = draw_labeled_bboxes(np.copy(test_img), labels)\n",
        "# Display the image\n",
        "plt.figure(figsize=(10,10))\n",
        "plt.imshow(draw_img)"
      ],
      "execution_count": 60,
      "outputs": [
        {
          "output_type": "error",
          "ename": "NameError",
          "evalue": "ignored",
          "traceback": [
            "\u001b[0;31m---------------------------------------------------------------------------\u001b[0m",
            "\u001b[0;31mNameError\u001b[0m                                 Traceback (most recent call last)",
            "\u001b[0;32m<ipython-input-60-33461c8e72c8>\u001b[0m in \u001b[0;36m<module>\u001b[0;34m()\u001b[0m\n\u001b[1;32m      1\u001b[0m \u001b[0;31m# Draw bounding boxes on a copy of the image\u001b[0m\u001b[0;34m\u001b[0m\u001b[0;34m\u001b[0m\u001b[0;34m\u001b[0m\u001b[0m\n\u001b[0;32m----> 2\u001b[0;31m \u001b[0mdraw_img\u001b[0m\u001b[0;34m,\u001b[0m \u001b[0mrect\u001b[0m \u001b[0;34m=\u001b[0m \u001b[0mdraw_labeled_bboxes\u001b[0m\u001b[0;34m(\u001b[0m\u001b[0mnp\u001b[0m\u001b[0;34m.\u001b[0m\u001b[0mcopy\u001b[0m\u001b[0;34m(\u001b[0m\u001b[0mtest_img\u001b[0m\u001b[0;34m)\u001b[0m\u001b[0;34m,\u001b[0m \u001b[0mlabels\u001b[0m\u001b[0;34m)\u001b[0m\u001b[0;34m\u001b[0m\u001b[0;34m\u001b[0m\u001b[0m\n\u001b[0m\u001b[1;32m      3\u001b[0m \u001b[0;31m# Display the image\u001b[0m\u001b[0;34m\u001b[0m\u001b[0;34m\u001b[0m\u001b[0;34m\u001b[0m\u001b[0m\n\u001b[1;32m      4\u001b[0m \u001b[0mplt\u001b[0m\u001b[0;34m.\u001b[0m\u001b[0mfigure\u001b[0m\u001b[0;34m(\u001b[0m\u001b[0mfigsize\u001b[0m\u001b[0;34m=\u001b[0m\u001b[0;34m(\u001b[0m\u001b[0;36m10\u001b[0m\u001b[0;34m,\u001b[0m\u001b[0;36m10\u001b[0m\u001b[0;34m)\u001b[0m\u001b[0;34m)\u001b[0m\u001b[0;34m\u001b[0m\u001b[0;34m\u001b[0m\u001b[0m\n\u001b[1;32m      5\u001b[0m \u001b[0mplt\u001b[0m\u001b[0;34m.\u001b[0m\u001b[0mimshow\u001b[0m\u001b[0;34m(\u001b[0m\u001b[0mdraw_img\u001b[0m\u001b[0;34m)\u001b[0m\u001b[0;34m\u001b[0m\u001b[0;34m\u001b[0m\u001b[0m\n",
            "\u001b[0;31mNameError\u001b[0m: name 'labels' is not defined"
          ]
        }
      ]
    },
    {
      "cell_type": "code",
      "metadata": {
        "id": "oRts144XbQVi",
        "colab_type": "code",
        "colab": {}
      },
      "source": [
        ""
      ],
      "execution_count": null,
      "outputs": []
    }
  ]
}